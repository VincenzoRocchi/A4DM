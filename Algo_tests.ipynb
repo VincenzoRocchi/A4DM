{
 "cells": [
  {
   "cell_type": "code",
   "execution_count": 109,
   "metadata": {},
   "outputs": [
    {
     "name": "stdout",
     "output_type": "stream",
     "text": [
      "[59, 43, 56, 40, 48, 14, 45, 14, 67, 13]\n"
     ]
    }
   ],
   "source": [
    "import random\n",
    "import time\n",
    "\n",
    "A = [random.randint(1, 100) for _ in range(10)]\n",
    "print(A)"
   ]
  },
  {
   "cell_type": "markdown",
   "metadata": {},
   "source": [
    "### IsertionSort"
   ]
  },
  {
   "cell_type": "code",
   "execution_count": 116,
   "metadata": {},
   "outputs": [
    {
     "name": "stdout",
     "output_type": "stream",
     "text": [
      "[13, 14, 14, 40, 43, 45, 48, 56, 59, 67]\n",
      "CPU times: user 67 µs, sys: 5 µs, total: 72 µs\n",
      "Wall time: 76.1 µs\n"
     ]
    }
   ],
   "source": [
    "%%time\n",
    "#insertion sort\n",
    "def InsertionSort(A):\n",
    "    \n",
    "    for j in range(1, len(A)):\n",
    "        key = A[j]\n",
    "        i = j-1\n",
    "        while i >= 0 and key < A[i]:\n",
    "            A[i+1] = A[i]\n",
    "            i -= 1\n",
    "        A[i+1] = key   \n",
    "    return A\n",
    "\n",
    "print(InsertionSort(A))"
   ]
  },
  {
   "cell_type": "markdown",
   "metadata": {},
   "source": [
    "### SelectionSort"
   ]
  },
  {
   "cell_type": "code",
   "execution_count": 117,
   "metadata": {},
   "outputs": [
    {
     "name": "stdout",
     "output_type": "stream",
     "text": [
      "[13, 14, 14, 40, 43, 45, 48, 56, 59, 67]\n",
      "CPU times: user 70 µs, sys: 4 µs, total: 74 µs\n",
      "Wall time: 76.8 µs\n"
     ]
    }
   ],
   "source": [
    "%%time\n",
    "#selection sort\n",
    "def SelectionSort(A):\n",
    "    \n",
    "    for i in range(len(A)):\n",
    "        min_elem_index = i\n",
    "        \n",
    "        for j in range(i+1,len(A)):\n",
    "            if A[j] < A[min_elem_index]:\n",
    "                min_elem = j\n",
    "        A[i], A[min_elem_index] = A[min_elem_index],A[i]\n",
    "        \n",
    "    return A\n",
    "\n",
    "print(SelectionSort(A))"
   ]
  },
  {
   "cell_type": "markdown",
   "metadata": {},
   "source": [
    "### MergeSort"
   ]
  },
  {
   "cell_type": "code",
   "execution_count": 119,
   "metadata": {},
   "outputs": [
    {
     "name": "stdout",
     "output_type": "stream",
     "text": [
      "[13, 14, 14, 40, 43, 45, 48, 56, 59, 67]\n",
      "CPU times: user 230 µs, sys: 92 µs, total: 322 µs\n",
      "Wall time: 307 µs\n"
     ]
    }
   ],
   "source": [
    "%%time\n",
    "#MergeSort\n",
    "def Merge(A,p,q,r):\n",
    "    \n",
    "    L = A[p:q]\n",
    "    R = A[q:r]\n",
    "    \n",
    "    i = j = 0\n",
    "    k = p\n",
    "    \n",
    "    while i < len(L) and j < len(R):\n",
    "        if L[i] < R[j]:\n",
    "            A[k] = L[i]\n",
    "            i += 1\n",
    "        else:\n",
    "            A[k] = R[j]\n",
    "            j += 1\n",
    "        k += 1\n",
    "    \n",
    "    while i < len(L):\n",
    "        A[k] = L[i]\n",
    "        i += 1\n",
    "        k += 1\n",
    "\n",
    "    while j < len(R):\n",
    "        A[k] = R[j]\n",
    "        j += 1\n",
    "        k += 1\n",
    "        \n",
    "def MergeSort(A,p,r):\n",
    "    \n",
    "    if p < r -1:\n",
    "        q = (p+r)//2\n",
    "        MergeSort(A,p,q)\n",
    "        MergeSort(A,q,r)\n",
    "        Merge(A,p,q,r)\n",
    "        \n",
    "    return A\n",
    "\n",
    "print(MergeSort(A,0,len(A)))"
   ]
  },
  {
   "cell_type": "markdown",
   "metadata": {},
   "source": [
    "### BubbleSort"
   ]
  },
  {
   "cell_type": "code",
   "execution_count": 122,
   "metadata": {},
   "outputs": [
    {
     "name": "stdout",
     "output_type": "stream",
     "text": [
      "[13, 14, 14, 40, 43, 45, 48, 56, 59, 67]\n",
      "CPU times: user 244 µs, sys: 240 µs, total: 484 µs\n",
      "Wall time: 462 µs\n"
     ]
    }
   ],
   "source": [
    "%%time\n",
    "#BubbleSort\n",
    "def BubbleSort(A):\n",
    "    \n",
    "    for i in range(len(A)):\n",
    "        for j in range(len(A)-1, i-1, -1):\n",
    "            if A[j]< A[j-1]:\n",
    "                A[j],A[j-1] = A[j-1],A[j]\n",
    "    return A\n",
    "\n",
    "print(BubbleSort(A))"
   ]
  },
  {
   "cell_type": "markdown",
   "metadata": {},
   "source": [
    "### OtherAlgo"
   ]
  },
  {
   "cell_type": "code",
   "execution_count": null,
   "metadata": {},
   "outputs": [],
   "source": []
  }
 ],
 "metadata": {
  "kernelspec": {
   "display_name": "DSBI",
   "language": "python",
   "name": "python3"
  },
  "language_info": {
   "codemirror_mode": {
    "name": "ipython",
    "version": 3
   },
   "file_extension": ".py",
   "mimetype": "text/x-python",
   "name": "python",
   "nbconvert_exporter": "python",
   "pygments_lexer": "ipython3",
   "version": "3.12.0"
  }
 },
 "nbformat": 4,
 "nbformat_minor": 2
}
