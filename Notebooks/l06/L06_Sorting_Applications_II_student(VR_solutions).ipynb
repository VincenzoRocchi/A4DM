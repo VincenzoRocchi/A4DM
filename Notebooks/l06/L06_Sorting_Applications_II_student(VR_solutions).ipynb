{
 "cells": [
  {
   "attachments": {},
   "cell_type": "markdown",
   "metadata": {},
   "source": [
    "## Sorting: Applications\n",
    "\n",
    "----"
   ]
  },
  {
   "cell_type": "code",
   "execution_count": 3,
   "metadata": {},
   "outputs": [],
   "source": [
    "## Define some function useful for testing\n",
    "import random\n",
    "\n",
    "## generate an array of n random integers up to b\n",
    "def get_random_array(n, b = 50):\n",
    "    \n",
    "    return [random.randint(0, b) for _ in range(n)]"
   ]
  },
  {
   "attachments": {},
   "cell_type": "markdown",
   "metadata": {},
   "source": [
    "## Priority queue in Python \n",
    "\n",
    "A **heap** is managed by using python’s inbuilt library named ```heapq```. This library has the relevant functions to carry out various operations on heap data structure. Below is a list of these functions.\n",
    "\n",
    "- ```heapify``` converts a regular list to a heap.\n",
    "- ```heappush```  adds an element to the heap without altering the current heap.\n",
    "- ```heappop``` returns (and removes) the smallest data element from the heap.\n",
    "\n",
    "A heap is not a Python's object. It's just a normal list.\n",
    "\n",
    "----\n",
    "\n",
    "\n",
    "### Create a Heap"
   ]
  },
  {
   "cell_type": "code",
   "execution_count": 4,
   "metadata": {},
   "outputs": [
    {
     "name": "stdout",
     "output_type": "stream",
     "text": [
      "[1, 3, 5, 78, 21, 45]\n"
     ]
    }
   ],
   "source": [
    "import heapq\n",
    "\n",
    "H = [21, 1, 45, 78, 3, 5]\n",
    "\n",
    "# Use heapify to rearrange the elements\n",
    "heapq.heapify(H)\n",
    "\n",
    "print(H)"
   ]
  },
  {
   "attachments": {},
   "cell_type": "markdown",
   "metadata": {},
   "source": [
    "### Inserting into a Heap"
   ]
  },
  {
   "cell_type": "code",
   "execution_count": null,
   "metadata": {},
   "outputs": [],
   "source": [
    "print(H)\n",
    "\n",
    "heapq.heappush(H, 0)\n",
    "\n",
    "print(H)"
   ]
  },
  {
   "cell_type": "code",
   "execution_count": null,
   "metadata": {},
   "outputs": [],
   "source": [
    "H[5] = -1\n",
    "print(H)\n",
    "\n",
    "m = heapq.heappop(H)\n",
    "print(m)"
   ]
  },
  {
   "attachments": {},
   "cell_type": "markdown",
   "metadata": {},
   "source": [
    "We could use ```heappush``` to build a heap. However, this is slower as shown by the test below. "
   ]
  },
  {
   "cell_type": "code",
   "execution_count": null,
   "metadata": {},
   "outputs": [],
   "source": [
    "def my_heapify(H):\n",
    "    heap = []\n",
    "    for x in H:\n",
    "        heapq.heappush(heap, x)\n",
    "    return heap"
   ]
  },
  {
   "cell_type": "code",
   "execution_count": null,
   "metadata": {},
   "outputs": [],
   "source": [
    "a = get_random_array(10000)\n",
    "H = a[:]\n",
    "\n",
    "%timeit heapq.heapify(H)\n",
    "%timeit my_heapify(a)"
   ]
  },
  {
   "attachments": {},
   "cell_type": "markdown",
   "metadata": {},
   "source": [
    "### Removing from heap \n",
    "We can remove the smallest element from heap by using ```heappop```."
   ]
  },
  {
   "cell_type": "code",
   "execution_count": null,
   "metadata": {},
   "outputs": [],
   "source": [
    "H = [21,1,45,78,3,5]\n",
    "\n",
    "# Use heapify to rearrange the elements\n",
    "heapq.heapify(H)\n",
    "\n",
    "\n",
    "print(H)\n",
    "m = heapq.heappop(H)\n",
    "print(m)\n",
    "print(H)"
   ]
  },
  {
   "cell_type": "code",
   "execution_count": null,
   "metadata": {},
   "outputs": [],
   "source": [
    "print(H[0])"
   ]
  },
  {
   "attachments": {},
   "cell_type": "markdown",
   "metadata": {},
   "source": [
    "### MAX-heap?\n"
   ]
  },
  {
   "cell_type": "code",
   "execution_count": null,
   "metadata": {},
   "outputs": [],
   "source": [
    "import heapq\n",
    "minH = [21,1,45,78,3,5]\n",
    "maxH = minH[:]\n",
    "\n",
    "heapq.heapify(minH)             # for a min heap\n",
    "print(minH)\n",
    "\n",
    "heapq._heapify_max(maxH)        # for a max heap!!\n",
    "print(maxH)"
   ]
  },
  {
   "attachments": {},
   "cell_type": "markdown",
   "metadata": {},
   "source": [
    "If you then want to pop elements, use the following."
   ]
  },
  {
   "cell_type": "code",
   "execution_count": null,
   "metadata": {},
   "outputs": [],
   "source": [
    "m = heapq.heappop(minH)      # pop from minheap\n",
    "print(m)\n",
    "\n",
    "m = heapq._heappop_max(maxH) # pop from maxheap\n",
    "print(m)"
   ]
  },
  {
   "attachments": {},
   "cell_type": "markdown",
   "metadata": {},
   "source": [
    "----\n",
    "\n",
    "### Exercise: K-largest elements of a array\n",
    "\n",
    "We want to compute the K-largest elements of a array A. **Report them sorted**.\n",
    "\n",
    "There are three possible algorithms to solve this problem:\n",
    "\n",
    "\n",
    "#### Algorithm 1: Sorting\n",
    "The easiest way to solve this is by sorting the array in decreasing order and reporting the first K elements. \n",
    "\n",
    "This algorithm costs $\\Theta(n\\log n)$ time. \n",
    "\n",
    "Implement this algorithm in a function ```k_largest_sort(A, K)```and test its correctness.\n",
    "\n",
    "#### Algorithm 2: QuickSelect\n",
    "Implement the QuickSelect algorithm and use it to find the K-largest element E in the array A. Then, scan A again \n",
    "to collect the K elements larger than or equal to E. Finally, sort the collected elements.\n",
    "\n",
    "This algorithm costs $\\Theta(n + K\\log K)$ time (in expectation). \n",
    "\n",
    "Implement this algorithm in a function ```k_largest_quickselect(A, K)```and test its correctness.\n",
    "\n",
    "\n",
    "#### Algorithm 3: Heap\n",
    "You have to implement the following faster algorithm as a function ```k_largest_heap(A,K)```.\n",
    "- Scan the array from left to right and keep a min-heap. The min-heap will contain at most K elements.\n",
    "- Insert the current element into the heap, if the heap has less than K elements or the current element is larger than the minimum in the heap. If the heap has more than K elements, remove the minimum. \n",
    "- Sort the collected elements.\n",
    "\n",
    "This algorithm runs in $\\Theta(n\\log K)$ time.\n",
    "\n",
    "Implement this algorithm in a function ```k_largest_heap(A, K)```and test its correctness.\n",
    "\n",
    "\n",
    "**Compare the three solutions by varying the size of the array and the value K. Which one is the fastest?**"
   ]
  },
  {
   "cell_type": "code",
   "execution_count": 13,
   "metadata": {},
   "outputs": [],
   "source": [
    "## Your implementations goes here\n",
    "\n",
    "# algo 1\n",
    "\n",
    "def k_largest_sort(A,K):\n",
    "    A = sorted(A, reverse= True)\n",
    "    return A[:K]\n",
    "\n",
    "# algo 2\n",
    "\n",
    "# for the quickselect recursive part we get the right answer of the kth largest element only if the pivotindex is equal to the k so\n",
    "# if we get a pivot index that is bigger than the k we have to look for ou desired kth numer on the left part of the array\n",
    "# basically just call again the partition algo and the quickselect one on the left or the right side of the pivot index\n",
    "\n",
    "def partition(A, low, high):\n",
    "    \n",
    "    pivot = random.randint(low, high)\n",
    "    A[pivot], A[high] = A[high], A[pivot]\n",
    "    i = low - 1\n",
    "    pivot = A[high]\n",
    "    for j in range(low, high):\n",
    "        if A[j] >= pivot:\n",
    "            i += 1\n",
    "            A[i], A[j] = A[j], A[i]\n",
    "    A[i + 1], A[high] = A[high], A[i + 1]\n",
    "    return i + 1\n",
    "\n",
    "def Quickselect(A, low, high, k):\n",
    "    if low == high:\n",
    "        return A[low]\n",
    "    partition_index = partition(A, low, high)\n",
    "    if partition_index > k:\n",
    "        return Quickselect(A, low, partition_index - 1, k)\n",
    "    if partition_index < k:\n",
    "        return Quickselect(A, partition_index + 1, high, k)\n",
    "    else:\n",
    "        return A[partition_index]\n",
    "        \n",
    "def k_largest_quickselect(A,K):\n",
    "    E = Quickselect(A, 0, len(A)-1, K)\n",
    "    k_largest = [num for num in A if num >= E]\n",
    "    k_largest = sorted(k_largest, reverse= True)[:K]\n",
    "    return k_largest  \n",
    "\n",
    "## algo 3\n",
    "\n",
    "def k_largest_heap(A,K):\n",
    "    min_heap = []\n",
    "    for elem in A:\n",
    "        if len(min_heap) < K or elem > min_heap[0]:\n",
    "            heapq.heappush(min_heap, elem)\n",
    "        if len(min_heap) > K:\n",
    "            heapq.heappop(min_heap[0])\n",
    "    return min_heap\n",
    "    "
   ]
  },
  {
   "cell_type": "code",
   "execution_count": 14,
   "metadata": {},
   "outputs": [],
   "source": [
    "## test your implementation\n",
    "a = get_random_array(1000, 10000)\n",
    "\n",
    "assert sorted(k_largest_sort(a, 10)) == sorted(a)[-10:], \"FAIL!\"  \n",
    "assert sorted(k_largest_quickselect(a, 10)) == sorted(a)[-10:], \"FAIL!\"  \n",
    "assert sorted(k_largest_heap(a, 10)) == sorted(a)[-10:], \"FAIL!\"  "
   ]
  },
  {
   "cell_type": "code",
   "execution_count": 15,
   "metadata": {},
   "outputs": [
    {
     "name": "stdout",
     "output_type": "stream",
     "text": [
      "4.55 ms ± 11.5 µs per loop (mean ± std. dev. of 7 runs, 100 loops each)\n",
      "29.4 ms ± 2.09 ms per loop (mean ± std. dev. of 7 runs, 10 loops each)\n",
      "6.41 ms ± 36.9 µs per loop (mean ± std. dev. of 7 runs, 100 loops each)\n"
     ]
    }
   ],
   "source": [
    "a = get_random_array(50000, 100)\n",
    "K = 10\n",
    "\n",
    "%timeit k_largest_sort(a, K)\n",
    "%timeit k_largest_quickselect(a, K)\n",
    "%timeit k_largest_heap(a, K)"
   ]
  },
  {
   "attachments": {},
   "cell_type": "markdown",
   "metadata": {
    "slideshow": {
     "slide_type": "subslide"
    }
   },
   "source": [
    "---\n",
    "\n",
    "### Exercise: compute distinct elements\n",
    "You are given a list A of elements and you want to obtain the list of distinct elements in A.\n",
    "\n",
    "There are two possible algorithms to do this:\n",
    "\n",
    "- Use ```list(set(A))```\n",
    "- Sort A and then scan. Implement this as a function ```distinct(A)``` \n",
    "\n",
    "Compare these two approaches by varying the size of the array and the number of distinct elements."
   ]
  },
  {
   "cell_type": "code",
   "execution_count": null,
   "metadata": {},
   "outputs": [],
   "source": [
    "A = [10, 2, 3, 3, 4, 3, 4]\n",
    "\n",
    "distinct(A) = [10, 2, 3, 4]\n",
    "\n",
    "2, 3, 3, 3, 4, 4"
   ]
  },
  {
   "cell_type": "code",
   "execution_count": 16,
   "metadata": {},
   "outputs": [],
   "source": [
    "## Your implementation goes here\n",
    "\n",
    "def distinct(A):\n",
    "    A = sorted(A)\n",
    "    distinct_elements = [A[i] for i in range(len(A)) if A[i] != A[i-1]]\n",
    "    return distinct_elements\n"
   ]
  },
  {
   "cell_type": "code",
   "execution_count": 17,
   "metadata": {},
   "outputs": [
    {
     "data": {
      "text/plain": [
       "[2, 3, 4, 10]"
      ]
     },
     "execution_count": 17,
     "metadata": {},
     "output_type": "execute_result"
    }
   ],
   "source": [
    "distinct([10, 2, 3, 3, 4, 3, 4])"
   ]
  },
  {
   "cell_type": "code",
   "execution_count": 18,
   "metadata": {},
   "outputs": [],
   "source": [
    "## test your implementation\n",
    "a = get_random_array(1000)\n",
    "\n",
    "assert distinct(a) == sorted(list(set(a))), \"FAIL!\""
   ]
  },
  {
   "attachments": {},
   "cell_type": "markdown",
   "metadata": {},
   "source": [
    "## What's the fastest approach?"
   ]
  },
  {
   "cell_type": "code",
   "execution_count": 19,
   "metadata": {},
   "outputs": [
    {
     "name": "stdout",
     "output_type": "stream",
     "text": [
      "107 µs ± 3.35 µs per loop (mean ± std. dev. of 7 runs, 10,000 loops each)\n",
      "1.49 ms ± 2.48 µs per loop (mean ± std. dev. of 7 runs, 1,000 loops each)\n"
     ]
    }
   ],
   "source": [
    "a = get_random_array(10000, 10)\n",
    "\n",
    "%timeit list(set(a))\n",
    "%timeit distinct(a)"
   ]
  },
  {
   "attachments": {},
   "cell_type": "markdown",
   "metadata": {},
   "source": [
    "---\n",
    "\n",
    "### Exercise: Pareto frontier of a set of points in 2-D space (aka Skyline problem)\n",
    "We are given a set $S$ of $n$ 2D points.\n",
    "A point $(x,y)$ dominates a point $(x',y')$ iff $𝑥'\\leq 𝑥$ and $y'\\leq 𝑦$. \n",
    "Our goal is to find the set $P$ of dominating points in $S$. \n",
    "This corresponds to find the Pareto frontier (or, equivalently, the skyline). \n",
    "\n",
    "![alt text](skyline.png \"Example\")\n",
    "\n",
    "This problem has a lot of [applications](https://en.wikipedia.org/wiki/Multi-objective_optimization) (and [here](https://en.wikipedia.org/wiki/Pareto_efficiency)).\n",
    "\n",
    "The problem can be solved in $\\Theta(n\\log n)$ time.\n",
    "\n",
    "To find $P$ we need to sort points in $S$ by $x$ in descending order, \n",
    "and if $x$′𝑠 the same by $y$ in descending order. This takes $\\Theta(n\\log n)$ time. \n",
    "Then, we do the following.\n",
    "\n",
    "- Include first point in $P$ and remember this point as $𝑇$. \n",
    "- Iterates through the point (let $C$ current point):\n",
    "* if $C$ is dominated by $T$, then skip $C$ and go to next point;\n",
    "* Otherwise, include $C$ in $P$ and set $𝑇=𝐶$.\n",
    "\n",
    "This step can be performed in linear time.\n",
    "\n",
    "Implement the function ```pareto_frontier(S)```, which returns the pareto frontier $P$ of the points in $S$.\n"
   ]
  },
  {
   "cell_type": "code",
   "execution_count": 228,
   "metadata": {},
   "outputs": [],
   "source": [
    "## Your implementation goes here\n",
    "\n",
    "def pareto_frontier(S):\n",
    "    \n",
    "    S = sorted(S, key = lambda x: (-x[0], -x[1]))\n",
    "    \n",
    "    T = S[0]\n",
    "    P = [T]\n",
    "    \n",
    "    for C in S:\n",
    "        if C[1] < P[-1][1]:\n",
    "            continue\n",
    "        if C[1] > P[-1][1]:\n",
    "            T = C\n",
    "            P.append(T)\n",
    "        \n",
    "    P = sorted(P)\n",
    "    return P"
   ]
  },
  {
   "cell_type": "code",
   "execution_count": 227,
   "metadata": {},
   "outputs": [],
   "source": [
    "## Test your implementation here\n",
    "\n",
    "S = [(6, 7.5), (7, 8), (8, 7), (2, 9), (3, 9.5), (1, 10), (4, 9), (5, 8)]\n",
    "\n",
    "assert pareto_frontier(S) == [(1, 10), (3, 9.5), (4, 9), (7, 8), (8, 7)], \"Fail!\""
   ]
  },
  {
   "cell_type": "code",
   "execution_count": null,
   "metadata": {},
   "outputs": [],
   "source": []
  }
 ],
 "metadata": {
  "kernelspec": {
   "display_name": "Python 3 (ipykernel)",
   "language": "python",
   "name": "python3"
  },
  "language_info": {
   "codemirror_mode": {
    "name": "ipython",
    "version": 3
   },
   "file_extension": ".py",
   "mimetype": "text/x-python",
   "name": "python",
   "nbconvert_exporter": "python",
   "pygments_lexer": "ipython3",
   "version": "3.9.12"
  },
  "latex_envs": {
   "LaTeX_envs_menu_present": true,
   "autoclose": false,
   "autocomplete": true,
   "bibliofile": "biblio.bib",
   "cite_by": "apalike",
   "current_citInitial": 1,
   "eqLabelWithNumbers": true,
   "eqNumInitial": 1,
   "hotkeys": {
    "equation": "Ctrl-E",
    "itemize": "Ctrl-I"
   },
   "labels_anchors": false,
   "latex_user_defs": false,
   "report_style_numbering": false,
   "user_envs_cfg": false
  },
  "varInspector": {
   "cols": {
    "lenName": 16,
    "lenType": 16,
    "lenVar": 40
   },
   "kernels_config": {
    "python": {
     "delete_cmd_postfix": "",
     "delete_cmd_prefix": "del ",
     "library": "var_list.py",
     "varRefreshCmd": "print(var_dic_list())"
    },
    "r": {
     "delete_cmd_postfix": ") ",
     "delete_cmd_prefix": "rm(",
     "library": "var_list.r",
     "varRefreshCmd": "cat(var_dic_list()) "
    }
   },
   "types_to_exclude": [
    "module",
    "function",
    "builtin_function_or_method",
    "instance",
    "_Feature"
   ],
   "window_display": false
  }
 },
 "nbformat": 4,
 "nbformat_minor": 4
}
