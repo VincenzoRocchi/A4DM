{
 "cells": [
  {
   "attachments": {},
   "cell_type": "markdown",
   "metadata": {},
   "source": [
    "# NetworkX: Network Analysis in Python\n",
    "----\n",
    "\n",
    "[NetworkX](https://networkx.github.io/) is a Python package for the creation, manipulation, and study of the structure, dynamics, and functions of complex networks.\n",
    "\n",
    "- Data structures for graphs, digraphs, and multigraphs\n",
    "- Many standard graph algorithms\n",
    "- Network structure and analysis measures\n",
    "- Generators for classic graphs, random graphs, and synthetic networks\n",
    "- Nodes can be \"anything\" (e.g., text, images, XML records)\n",
    "- Edges can hold arbitrary data (e.g., weights, time-series)"
   ]
  },
  {
   "attachments": {},
   "cell_type": "markdown",
   "metadata": {},
   "source": [
    "## Let's install necessary libraries"
   ]
  },
  {
   "cell_type": "code",
   "execution_count": 1,
   "metadata": {},
   "outputs": [
    {
     "name": "stdout",
     "output_type": "stream",
     "text": [
      "Requirement already satisfied: networkx in /Users/vincenzorocchi/opt/anaconda3/lib/python3.9/site-packages (2.7.1)\n",
      "Requirement already satisfied: matplotlib in /Users/vincenzorocchi/opt/anaconda3/lib/python3.9/site-packages (3.5.1)\n",
      "Requirement already satisfied: cycler>=0.10 in /Users/vincenzorocchi/opt/anaconda3/lib/python3.9/site-packages (from matplotlib) (0.11.0)\n",
      "Requirement already satisfied: fonttools>=4.22.0 in /Users/vincenzorocchi/opt/anaconda3/lib/python3.9/site-packages (from matplotlib) (4.25.0)\n",
      "Requirement already satisfied: kiwisolver>=1.0.1 in /Users/vincenzorocchi/opt/anaconda3/lib/python3.9/site-packages (from matplotlib) (1.3.2)\n",
      "Requirement already satisfied: numpy>=1.17 in /Users/vincenzorocchi/opt/anaconda3/lib/python3.9/site-packages (from matplotlib) (1.21.5)\n",
      "Requirement already satisfied: pillow>=6.2.0 in /Users/vincenzorocchi/opt/anaconda3/lib/python3.9/site-packages (from matplotlib) (9.0.1)\n",
      "Requirement already satisfied: pyparsing>=2.2.1 in /Users/vincenzorocchi/opt/anaconda3/lib/python3.9/site-packages (from matplotlib) (3.0.4)\n",
      "Requirement already satisfied: python-dateutil>=2.7 in /Users/vincenzorocchi/opt/anaconda3/lib/python3.9/site-packages (from matplotlib) (2.8.2)\n",
      "Requirement already satisfied: packaging>=20.0 in /Users/vincenzorocchi/opt/anaconda3/lib/python3.9/site-packages (from matplotlib) (21.3)\n",
      "Requirement already satisfied: six>=1.5 in /Users/vincenzorocchi/opt/anaconda3/lib/python3.9/site-packages (from python-dateutil>=2.7->matplotlib) (1.16.0)\n",
      "Collecting pygraphviz\n",
      "  Using cached pygraphviz-1.11.zip (120 kB)\n",
      "Building wheels for collected packages: pygraphviz\n",
      "  Building wheel for pygraphviz (setup.py) ... \u001b[?25lerror\n",
      "\u001b[31m  ERROR: Command errored out with exit status 1:\n",
      "   command: /Users/vincenzorocchi/opt/anaconda3/bin/python3 -u -c 'import io, os, sys, setuptools, tokenize; sys.argv[0] = '\"'\"'/private/var/folders/qm/__jn31fj4rj1h58mlnf1xsbm0000gn/T/pip-install-c8lgv3qe/pygraphviz_6fd929a8357240db895ca9f4953b2510/setup.py'\"'\"'; __file__='\"'\"'/private/var/folders/qm/__jn31fj4rj1h58mlnf1xsbm0000gn/T/pip-install-c8lgv3qe/pygraphviz_6fd929a8357240db895ca9f4953b2510/setup.py'\"'\"';f = getattr(tokenize, '\"'\"'open'\"'\"', open)(__file__) if os.path.exists(__file__) else io.StringIO('\"'\"'from setuptools import setup; setup()'\"'\"');code = f.read().replace('\"'\"'\\r\\n'\"'\"', '\"'\"'\\n'\"'\"');f.close();exec(compile(code, __file__, '\"'\"'exec'\"'\"'))' bdist_wheel -d /private/var/folders/qm/__jn31fj4rj1h58mlnf1xsbm0000gn/T/pip-wheel-39pr7lco\n",
      "       cwd: /private/var/folders/qm/__jn31fj4rj1h58mlnf1xsbm0000gn/T/pip-install-c8lgv3qe/pygraphviz_6fd929a8357240db895ca9f4953b2510/\n",
      "  Complete output (55 lines):\n",
      "  running bdist_wheel\n",
      "  running build\n",
      "  running build_py\n",
      "  creating build\n",
      "  creating build/lib.macosx-10.9-x86_64-3.9\n",
      "  creating build/lib.macosx-10.9-x86_64-3.9/pygraphviz\n",
      "  copying pygraphviz/scraper.py -> build/lib.macosx-10.9-x86_64-3.9/pygraphviz\n",
      "  copying pygraphviz/graphviz.py -> build/lib.macosx-10.9-x86_64-3.9/pygraphviz\n",
      "  copying pygraphviz/__init__.py -> build/lib.macosx-10.9-x86_64-3.9/pygraphviz\n",
      "  copying pygraphviz/agraph.py -> build/lib.macosx-10.9-x86_64-3.9/pygraphviz\n",
      "  copying pygraphviz/testing.py -> build/lib.macosx-10.9-x86_64-3.9/pygraphviz\n",
      "  creating build/lib.macosx-10.9-x86_64-3.9/pygraphviz/tests\n",
      "  copying pygraphviz/tests/test_unicode.py -> build/lib.macosx-10.9-x86_64-3.9/pygraphviz/tests\n",
      "  copying pygraphviz/tests/test_scraper.py -> build/lib.macosx-10.9-x86_64-3.9/pygraphviz/tests\n",
      "  copying pygraphviz/tests/test_readwrite.py -> build/lib.macosx-10.9-x86_64-3.9/pygraphviz/tests\n",
      "  copying pygraphviz/tests/test_string.py -> build/lib.macosx-10.9-x86_64-3.9/pygraphviz/tests\n",
      "  copying pygraphviz/tests/__init__.py -> build/lib.macosx-10.9-x86_64-3.9/pygraphviz/tests\n",
      "  copying pygraphviz/tests/test_html.py -> build/lib.macosx-10.9-x86_64-3.9/pygraphviz/tests\n",
      "  copying pygraphviz/tests/test_node_attributes.py -> build/lib.macosx-10.9-x86_64-3.9/pygraphviz/tests\n",
      "  copying pygraphviz/tests/test_drawing.py -> build/lib.macosx-10.9-x86_64-3.9/pygraphviz/tests\n",
      "  copying pygraphviz/tests/test_repr_mimebundle.py -> build/lib.macosx-10.9-x86_64-3.9/pygraphviz/tests\n",
      "  copying pygraphviz/tests/test_subgraph.py -> build/lib.macosx-10.9-x86_64-3.9/pygraphviz/tests\n",
      "  copying pygraphviz/tests/test_close.py -> build/lib.macosx-10.9-x86_64-3.9/pygraphviz/tests\n",
      "  copying pygraphviz/tests/test_edge_attributes.py -> build/lib.macosx-10.9-x86_64-3.9/pygraphviz/tests\n",
      "  copying pygraphviz/tests/test_clear.py -> build/lib.macosx-10.9-x86_64-3.9/pygraphviz/tests\n",
      "  copying pygraphviz/tests/test_layout.py -> build/lib.macosx-10.9-x86_64-3.9/pygraphviz/tests\n",
      "  copying pygraphviz/tests/test_attribute_defaults.py -> build/lib.macosx-10.9-x86_64-3.9/pygraphviz/tests\n",
      "  copying pygraphviz/tests/test_graph.py -> build/lib.macosx-10.9-x86_64-3.9/pygraphviz/tests\n",
      "  running egg_info\n",
      "  writing pygraphviz.egg-info/PKG-INFO\n",
      "  writing dependency_links to pygraphviz.egg-info/dependency_links.txt\n",
      "  writing top-level names to pygraphviz.egg-info/top_level.txt\n",
      "  reading manifest file 'pygraphviz.egg-info/SOURCES.txt'\n",
      "  reading manifest template 'MANIFEST.in'\n",
      "  warning: no files found matching '*.png' under directory 'doc'\n",
      "  warning: no files found matching '*.txt' under directory 'doc'\n",
      "  warning: no files found matching '*.css' under directory 'doc'\n",
      "  warning: no previously-included files matching '*~' found anywhere in distribution\n",
      "  warning: no previously-included files matching '*.pyc' found anywhere in distribution\n",
      "  warning: no previously-included files matching '.svn' found anywhere in distribution\n",
      "  no previously-included directories found matching 'doc/build'\n",
      "  adding license file 'LICENSE'\n",
      "  writing manifest file 'pygraphviz.egg-info/SOURCES.txt'\n",
      "  copying pygraphviz/graphviz.i -> build/lib.macosx-10.9-x86_64-3.9/pygraphviz\n",
      "  copying pygraphviz/graphviz_wrap.c -> build/lib.macosx-10.9-x86_64-3.9/pygraphviz\n",
      "  running build_ext\n",
      "  building 'pygraphviz._graphviz' extension\n",
      "  creating build/temp.macosx-10.9-x86_64-3.9\n",
      "  creating build/temp.macosx-10.9-x86_64-3.9/pygraphviz\n",
      "  clang -Wno-unused-result -Wsign-compare -Wunreachable-code -DNDEBUG -fwrapv -O2 -Wall -fPIC -O2 -isystem /Users/vincenzorocchi/opt/anaconda3/include -arch x86_64 -I/Users/vincenzorocchi/opt/anaconda3/include -fPIC -O2 -isystem /Users/vincenzorocchi/opt/anaconda3/include -arch x86_64 -DSWIG_PYTHON_STRICT_BYTE_CHAR -I/Users/vincenzorocchi/opt/anaconda3/include/python3.9 -c pygraphviz/graphviz_wrap.c -o build/temp.macosx-10.9-x86_64-3.9/pygraphviz/graphviz_wrap.o\n",
      "  pygraphviz/graphviz_wrap.c:3020:10: fatal error: 'graphviz/cgraph.h' file not found\n",
      "  #include \"graphviz/cgraph.h\"\n",
      "           ^~~~~~~~~~~~~~~~~~~\n",
      "  1 error generated.\n",
      "  error: command '/usr/bin/clang' failed with exit code 1\n",
      "  ----------------------------------------\u001b[0m\n",
      "\u001b[31m  ERROR: Failed building wheel for pygraphviz\u001b[0m\n",
      "\u001b[?25h  Running setup.py clean for pygraphviz\n",
      "Failed to build pygraphviz\n",
      "Installing collected packages: pygraphviz\n",
      "    Running setup.py install for pygraphviz ... \u001b[?25lerror\n",
      "\u001b[31m    ERROR: Command errored out with exit status 1:\n",
      "     command: /Users/vincenzorocchi/opt/anaconda3/bin/python3 -u -c 'import io, os, sys, setuptools, tokenize; sys.argv[0] = '\"'\"'/private/var/folders/qm/__jn31fj4rj1h58mlnf1xsbm0000gn/T/pip-install-c8lgv3qe/pygraphviz_6fd929a8357240db895ca9f4953b2510/setup.py'\"'\"'; __file__='\"'\"'/private/var/folders/qm/__jn31fj4rj1h58mlnf1xsbm0000gn/T/pip-install-c8lgv3qe/pygraphviz_6fd929a8357240db895ca9f4953b2510/setup.py'\"'\"';f = getattr(tokenize, '\"'\"'open'\"'\"', open)(__file__) if os.path.exists(__file__) else io.StringIO('\"'\"'from setuptools import setup; setup()'\"'\"');code = f.read().replace('\"'\"'\\r\\n'\"'\"', '\"'\"'\\n'\"'\"');f.close();exec(compile(code, __file__, '\"'\"'exec'\"'\"'))' install --record /private/var/folders/qm/__jn31fj4rj1h58mlnf1xsbm0000gn/T/pip-record-k5txm4ez/install-record.txt --single-version-externally-managed --user --prefix= --compile --install-headers /Users/vincenzorocchi/.local/include/python3.9/pygraphviz\n",
      "         cwd: /private/var/folders/qm/__jn31fj4rj1h58mlnf1xsbm0000gn/T/pip-install-c8lgv3qe/pygraphviz_6fd929a8357240db895ca9f4953b2510/\n",
      "    Complete output (57 lines):\n",
      "    running install\n",
      "    /Users/vincenzorocchi/opt/anaconda3/lib/python3.9/site-packages/setuptools/command/install.py:34: SetuptoolsDeprecationWarning: setup.py install is deprecated. Use build and pip and other standards-based tools.\n",
      "      warnings.warn(\n",
      "    running build\n",
      "    running build_py\n",
      "    creating build\n",
      "    creating build/lib.macosx-10.9-x86_64-3.9\n",
      "    creating build/lib.macosx-10.9-x86_64-3.9/pygraphviz\n",
      "    copying pygraphviz/scraper.py -> build/lib.macosx-10.9-x86_64-3.9/pygraphviz\n",
      "    copying pygraphviz/graphviz.py -> build/lib.macosx-10.9-x86_64-3.9/pygraphviz\n",
      "    copying pygraphviz/__init__.py -> build/lib.macosx-10.9-x86_64-3.9/pygraphviz\n",
      "    copying pygraphviz/agraph.py -> build/lib.macosx-10.9-x86_64-3.9/pygraphviz\n",
      "    copying pygraphviz/testing.py -> build/lib.macosx-10.9-x86_64-3.9/pygraphviz\n",
      "    creating build/lib.macosx-10.9-x86_64-3.9/pygraphviz/tests\n",
      "    copying pygraphviz/tests/test_unicode.py -> build/lib.macosx-10.9-x86_64-3.9/pygraphviz/tests\n",
      "    copying pygraphviz/tests/test_scraper.py -> build/lib.macosx-10.9-x86_64-3.9/pygraphviz/tests\n",
      "    copying pygraphviz/tests/test_readwrite.py -> build/lib.macosx-10.9-x86_64-3.9/pygraphviz/tests\n",
      "    copying pygraphviz/tests/test_string.py -> build/lib.macosx-10.9-x86_64-3.9/pygraphviz/tests\n",
      "    copying pygraphviz/tests/__init__.py -> build/lib.macosx-10.9-x86_64-3.9/pygraphviz/tests\n",
      "    copying pygraphviz/tests/test_html.py -> build/lib.macosx-10.9-x86_64-3.9/pygraphviz/tests\n",
      "    copying pygraphviz/tests/test_node_attributes.py -> build/lib.macosx-10.9-x86_64-3.9/pygraphviz/tests\n",
      "    copying pygraphviz/tests/test_drawing.py -> build/lib.macosx-10.9-x86_64-3.9/pygraphviz/tests\n",
      "    copying pygraphviz/tests/test_repr_mimebundle.py -> build/lib.macosx-10.9-x86_64-3.9/pygraphviz/tests\n",
      "    copying pygraphviz/tests/test_subgraph.py -> build/lib.macosx-10.9-x86_64-3.9/pygraphviz/tests\n",
      "    copying pygraphviz/tests/test_close.py -> build/lib.macosx-10.9-x86_64-3.9/pygraphviz/tests\n",
      "    copying pygraphviz/tests/test_edge_attributes.py -> build/lib.macosx-10.9-x86_64-3.9/pygraphviz/tests\n",
      "    copying pygraphviz/tests/test_clear.py -> build/lib.macosx-10.9-x86_64-3.9/pygraphviz/tests\n",
      "    copying pygraphviz/tests/test_layout.py -> build/lib.macosx-10.9-x86_64-3.9/pygraphviz/tests\n",
      "    copying pygraphviz/tests/test_attribute_defaults.py -> build/lib.macosx-10.9-x86_64-3.9/pygraphviz/tests\n",
      "    copying pygraphviz/tests/test_graph.py -> build/lib.macosx-10.9-x86_64-3.9/pygraphviz/tests\n",
      "    running egg_info\n",
      "    writing pygraphviz.egg-info/PKG-INFO\n",
      "    writing dependency_links to pygraphviz.egg-info/dependency_links.txt\n",
      "    writing top-level names to pygraphviz.egg-info/top_level.txt\n",
      "    reading manifest file 'pygraphviz.egg-info/SOURCES.txt'\n",
      "    reading manifest template 'MANIFEST.in'\n",
      "    warning: no files found matching '*.png' under directory 'doc'\n",
      "    warning: no files found matching '*.txt' under directory 'doc'\n",
      "    warning: no files found matching '*.css' under directory 'doc'\n",
      "    warning: no previously-included files matching '*~' found anywhere in distribution\n",
      "    warning: no previously-included files matching '*.pyc' found anywhere in distribution\n",
      "    warning: no previously-included files matching '.svn' found anywhere in distribution\n",
      "    no previously-included directories found matching 'doc/build'\n",
      "    adding license file 'LICENSE'\n",
      "    writing manifest file 'pygraphviz.egg-info/SOURCES.txt'\n",
      "    copying pygraphviz/graphviz.i -> build/lib.macosx-10.9-x86_64-3.9/pygraphviz\n",
      "    copying pygraphviz/graphviz_wrap.c -> build/lib.macosx-10.9-x86_64-3.9/pygraphviz\n",
      "    running build_ext\n",
      "    building 'pygraphviz._graphviz' extension\n",
      "    creating build/temp.macosx-10.9-x86_64-3.9\n",
      "    creating build/temp.macosx-10.9-x86_64-3.9/pygraphviz\n",
      "    clang -Wno-unused-result -Wsign-compare -Wunreachable-code -DNDEBUG -fwrapv -O2 -Wall -fPIC -O2 -isystem /Users/vincenzorocchi/opt/anaconda3/include -arch x86_64 -I/Users/vincenzorocchi/opt/anaconda3/include -fPIC -O2 -isystem /Users/vincenzorocchi/opt/anaconda3/include -arch x86_64 -DSWIG_PYTHON_STRICT_BYTE_CHAR -I/Users/vincenzorocchi/opt/anaconda3/include/python3.9 -c pygraphviz/graphviz_wrap.c -o build/temp.macosx-10.9-x86_64-3.9/pygraphviz/graphviz_wrap.o\n",
      "    pygraphviz/graphviz_wrap.c:3020:10: fatal error: 'graphviz/cgraph.h' file not found\n",
      "    #include \"graphviz/cgraph.h\"\n",
      "             ^~~~~~~~~~~~~~~~~~~\n",
      "    1 error generated.\n",
      "    error: command '/usr/bin/clang' failed with exit code 1\n",
      "    ----------------------------------------\u001b[0m\n",
      "\u001b[?25h\u001b[31mERROR: Command errored out with exit status 1: /Users/vincenzorocchi/opt/anaconda3/bin/python3 -u -c 'import io, os, sys, setuptools, tokenize; sys.argv[0] = '\"'\"'/private/var/folders/qm/__jn31fj4rj1h58mlnf1xsbm0000gn/T/pip-install-c8lgv3qe/pygraphviz_6fd929a8357240db895ca9f4953b2510/setup.py'\"'\"'; __file__='\"'\"'/private/var/folders/qm/__jn31fj4rj1h58mlnf1xsbm0000gn/T/pip-install-c8lgv3qe/pygraphviz_6fd929a8357240db895ca9f4953b2510/setup.py'\"'\"';f = getattr(tokenize, '\"'\"'open'\"'\"', open)(__file__) if os.path.exists(__file__) else io.StringIO('\"'\"'from setuptools import setup; setup()'\"'\"');code = f.read().replace('\"'\"'\\r\\n'\"'\"', '\"'\"'\\n'\"'\"');f.close();exec(compile(code, __file__, '\"'\"'exec'\"'\"'))' install --record /private/var/folders/qm/__jn31fj4rj1h58mlnf1xsbm0000gn/T/pip-record-k5txm4ez/install-record.txt --single-version-externally-managed --user --prefix= --compile --install-headers /Users/vincenzorocchi/.local/include/python3.9/pygraphviz Check the logs for full command output.\u001b[0m\n"
     ]
    }
   ],
   "source": [
    "!python3 -m pip install --user networkx\n",
    "#for graph plottinh\n",
    "!python3 -m pip install --user  matplotlib\n",
    "\n",
    "# need graphviz on your machine\n",
    "#!sudo apt-get install graphviz libgraphviz-dev graphviz-dev pkg-config\n",
    "#!brew install graphviz . You may need to do python3 -m pip install --install-option=\"--include-path=/usr/local/include/\" --install-option=\"--library-path=/usr/local/lib/\" pygraphviz\n",
    "\n",
    "!python3 -m pip install --user pygraphviz "
   ]
  },
  {
   "cell_type": "code",
   "execution_count": 2,
   "metadata": {},
   "outputs": [
    {
     "name": "stdout",
     "output_type": "stream",
     "text": [
      "2.7.1\n"
     ]
    }
   ],
   "source": [
    "import networkx as nx\n",
    "print(nx.__version__)\n",
    "\n",
    "import matplotlib.pyplot as plt\n",
    "import numpy as np"
   ]
  },
  {
   "attachments": {},
   "cell_type": "markdown",
   "metadata": {},
   "source": [
    "### Some functions to plot graphs"
   ]
  },
  {
   "cell_type": "code",
   "execution_count": 4,
   "metadata": {},
   "outputs": [],
   "source": [
    "from networkx.drawing.nx_agraph import graphviz_layout\n",
    "\n",
    "def plot_graph(G):\n",
    "    nx.draw(G, with_labels = True)  \n",
    "    plt.show()\n",
    "    \n",
    "def plot_graph_with_weights(G):\n",
    "    pos = nx.planar_layout(G) # pos = nx.nx_agraph.graphviz_layout(G)\n",
    "    nx.draw_networkx(G,pos)\n",
    "    labels = nx.get_edge_attributes(G,'weight')\n",
    "    nx.draw_networkx_edge_labels(G, pos, edge_labels=labels)\n",
    "    plt.show()\n",
    "\n",
    "def plot_tree(tree):\n",
    "    pos = graphviz_layout(tree, prog='dot')\n",
    "    nx.draw(tree, pos, with_labels=True)\n",
    "    plt.show()\n",
    "    \n",
    "def plot_graph_and_highlight_dijistra(G, path):\n",
    "    pos = graphviz_layout(G)\n",
    "    nx.draw(G, pos, with_labels = True)\n",
    "\n",
    "    nx.draw_networkx_nodes(G, pos, nodelist=path,node_color='r', with_labels=True)\n",
    "    path_edges = list(zip(path, path[1:]))\n",
    "    nx.draw_networkx_edges(G, pos, edgelist=path_edges, edge_color='r', width=4)\n",
    "    plt.show()"
   ]
  },
  {
   "attachments": {},
   "cell_type": "markdown",
   "metadata": {},
   "source": [
    "---\n",
    "\n",
    "## Create a Graph\n",
    "\n",
    "A graph is a __collection of nodes and edges__, *i.e.*, G = (V, E). Let us create an empty graph"
   ]
  },
  {
   "attachments": {},
   "cell_type": "markdown",
   "metadata": {},
   "source": [
    "Let's start by creating an empty graph"
   ]
  },
  {
   "cell_type": "code",
   "execution_count": 5,
   "metadata": {},
   "outputs": [],
   "source": [
    "G = nx.Graph()"
   ]
  },
  {
   "attachments": {},
   "cell_type": "markdown",
   "metadata": {},
   "source": [
    "Now let's __populate__ the graph. We can add one node at time using *G.add_node()* or add any iterable collections (lists, strings etc..) with *G.add_nodes_from*. \n",
    "\n",
    "We are now using strings as nodes's names, but nodes can be any hashable object."
   ]
  },
  {
   "cell_type": "code",
   "execution_count": 6,
   "metadata": {},
   "outputs": [],
   "source": [
    "G.add_node('a')\n",
    "my_list = ['b', 'c', 'd']\n",
    "G.add_nodes_from(my_list)"
   ]
  },
  {
   "attachments": {},
   "cell_type": "markdown",
   "metadata": {},
   "source": [
    "We can __inspect the nodes__ in a graph using *G.nodes()*."
   ]
  },
  {
   "cell_type": "code",
   "execution_count": 7,
   "metadata": {},
   "outputs": [
    {
     "data": {
      "text/plain": [
       "NodeView(('a', 'b', 'c', 'd'))"
      ]
     },
     "execution_count": 7,
     "metadata": {},
     "output_type": "execute_result"
    }
   ],
   "source": [
    "G.nodes()"
   ]
  },
  {
   "cell_type": "code",
   "execution_count": 8,
   "metadata": {},
   "outputs": [
    {
     "data": {
      "image/png": "[encoded data removed]",
      "text/plain": [
       "<Figure size 432x288 with 1 Axes>"
      ]
     },
     "metadata": {},
     "output_type": "display_data"
    }
   ],
   "source": [
    "plot_graph(G)"
   ]
  },
  {
   "attachments": {},
   "cell_type": "markdown",
   "metadata": {},
   "source": [
    "Now let us __add edges__ to the graph. \n",
    "\n",
    "We can add one edge at time with *G.add_edge()*, specifying the nodes between whom we want the edge to stay. As for nodes, we can pass an iterable colletion to *G.add_edges_from()*."
   ]
  },
  {
   "cell_type": "code",
   "execution_count": 10,
   "metadata": {},
   "outputs": [
    {
     "data": {
      "text/plain": [
       "EdgeView([('a', 'b'), ('a', 'c'), ('b', 'd'), ('c', 'd')])"
      ]
     },
     "execution_count": 10,
     "metadata": {},
     "output_type": "execute_result"
    }
   ],
   "source": [
    "G.add_edges_from([('a', 'b'), ('a', 'c'), ('c', 'd'), ('b', 'd')])\n",
    "G.edges()"
   ]
  },
  {
   "attachments": {},
   "cell_type": "markdown",
   "metadata": {},
   "source": [
    "If we add edges between nodes that does not exist, __nodes are automatically added__"
   ]
  },
  {
   "cell_type": "code",
   "execution_count": 11,
   "metadata": {},
   "outputs": [],
   "source": [
    "G.add_edge(\"a\", \"e\")"
   ]
  },
  {
   "cell_type": "code",
   "execution_count": 12,
   "metadata": {},
   "outputs": [
    {
     "data": {
      "image/png": "[encoded data removed]",
      "text/plain": [
       "<Figure size 432x288 with 1 Axes>"
      ]
     },
     "metadata": {},
     "output_type": "display_data"
    }
   ],
   "source": [
    "plot_graph(G)"
   ]
  },
  {
   "attachments": {},
   "cell_type": "markdown",
   "metadata": {},
   "source": [
    "__Remove__ nodes and/or edges using the *G.remove_node()* or the *G.remove_nodes_from()*"
   ]
  },
  {
   "cell_type": "code",
   "execution_count": 13,
   "metadata": {},
   "outputs": [
    {
     "data": {
      "image/png": "[encoded data removed]",
      "text/plain": [
       "<Figure size 432x288 with 1 Axes>"
      ]
     },
     "metadata": {},
     "output_type": "display_data"
    }
   ],
   "source": [
    "G.remove_node('e')\n",
    "plot_graph(G)"
   ]
  },
  {
   "attachments": {},
   "cell_type": "markdown",
   "metadata": {},
   "source": [
    "---\n",
    "## Graph properties\n"
   ]
  },
  {
   "attachments": {},
   "cell_type": "markdown",
   "metadata": {},
   "source": [
    "NewtorkX provides direct access to several __graph properties__"
   ]
  },
  {
   "cell_type": "code",
   "execution_count": 14,
   "metadata": {},
   "outputs": [
    {
     "name": "stdout",
     "output_type": "stream",
     "text": [
      "Number of Nodes:  4\n",
      "Number of Edges:  4\n"
     ]
    }
   ],
   "source": [
    "# Number of nodes\n",
    "print(\"Number of Nodes: \", G.order()) # equivalent to len(G) and G.number_of_nodes()\n",
    "# Number of edges\n",
    "print(\"Number of Edges: \", G.number_of_edges())"
   ]
  },
  {
   "attachments": {},
   "cell_type": "markdown",
   "metadata": {},
   "source": [
    "Nodes can be listed with G.nodes."
   ]
  },
  {
   "cell_type": "code",
   "execution_count": 15,
   "metadata": {},
   "outputs": [
    {
     "data": {
      "text/plain": [
       "NodeView(('a', 'b', 'c', 'd'))"
      ]
     },
     "execution_count": 15,
     "metadata": {},
     "output_type": "execute_result"
    }
   ],
   "source": [
    "G.nodes"
   ]
  },
  {
   "attachments": {},
   "cell_type": "markdown",
   "metadata": {},
   "source": [
    "We can assign nodes some attributes, e.g., a color."
   ]
  },
  {
   "cell_type": "code",
   "execution_count": 16,
   "metadata": {},
   "outputs": [],
   "source": [
    "for node in G.nodes:\n",
    "    G.nodes[node]['color'] = 'white'"
   ]
  },
  {
   "cell_type": "code",
   "execution_count": 17,
   "metadata": {},
   "outputs": [
    {
     "data": {
      "text/plain": [
       "[('a', {'color': 'white'}),\n",
       " ('b', {'color': 'white'}),\n",
       " ('c', {'color': 'white'}),\n",
       " ('d', {'color': 'white'})]"
      ]
     },
     "execution_count": 17,
     "metadata": {},
     "output_type": "execute_result"
    }
   ],
   "source": [
    "list(G.nodes.data())"
   ]
  },
  {
   "cell_type": "code",
   "execution_count": 18,
   "metadata": {},
   "outputs": [
    {
     "data": {
      "text/plain": [
       "'white'"
      ]
     },
     "execution_count": 18,
     "metadata": {},
     "output_type": "execute_result"
    }
   ],
   "source": [
    "G.nodes['a']['color']"
   ]
  },
  {
   "attachments": {},
   "cell_type": "markdown",
   "metadata": {},
   "source": [
    "We can explore the **neighbours** and the **degree** of the nodes in a graph using the facilities *G.adj* and *G.degree*."
   ]
  },
  {
   "cell_type": "code",
   "execution_count": 22,
   "metadata": {},
   "outputs": [
    {
     "name": "stdout",
     "output_type": "stream",
     "text": [
      "{'a': {'b': {}, 'c': {}}, 'b': {'a': {}, 'd': {}}, 'c': {'a': {}, 'd': {}}, 'd': {'c': {}, 'b': {}}}\n",
      "{'b': {}, 'c': {}}\n",
      "2\n"
     ]
    }
   ],
   "source": [
    "print(G.adj)\n",
    "print(G.adj['a'])\n",
    "print(G.degree['a'])"
   ]
  },
  {
   "attachments": {},
   "cell_type": "markdown",
   "metadata": {},
   "source": [
    "Graph are __subscriptable__ objects and we can access neighbours directly with the [ ] operator."
   ]
  },
  {
   "cell_type": "code",
   "execution_count": 23,
   "metadata": {},
   "outputs": [
    {
     "name": "stdout",
     "output_type": "stream",
     "text": [
      "{'b': {}, 'c': {}}\n",
      "{'b': {}, 'c': {}}\n"
     ]
    }
   ],
   "source": [
    "print(G.adj['a'])\n",
    "print(G['a'])"
   ]
  },
  {
   "attachments": {},
   "cell_type": "markdown",
   "metadata": {},
   "source": [
    "We may want to add some edges properties."
   ]
  },
  {
   "cell_type": "code",
   "execution_count": 24,
   "metadata": {},
   "outputs": [],
   "source": [
    "G['a']['c']['color'] = 'green'\n",
    "G['a']['b']['color'] = 'black'"
   ]
  },
  {
   "attachments": {},
   "cell_type": "markdown",
   "metadata": {},
   "source": [
    "We can use *G.adj* as a dictionary and __iterate__ over it."
   ]
  },
  {
   "cell_type": "code",
   "execution_count": 26,
   "metadata": {},
   "outputs": [
    {
     "name": "stdout",
     "output_type": "stream",
     "text": [
      "a {'b': {'color': 'black'}, 'c': {'color': 'green'}}\n",
      "b {'a': {'color': 'black'}, 'd': {}}\n",
      "c {'a': {'color': 'green'}, 'd': {}}\n",
      "d {'c': {}, 'b': {}}\n"
     ]
    }
   ],
   "source": [
    "for node, datadict in G.adj.items():\n",
    "    # datadict is a dictionary whose keys are node neighbours and whose value, in turn, is a dictionary \n",
    "    # reporting 'property:value' of the edge between node and key\n",
    "    \n",
    "    print(node, datadict) "
   ]
  },
  {
   "attachments": {},
   "cell_type": "markdown",
   "metadata": {},
   "source": [
    "The degree property reports the number of edges for each node."
   ]
  },
  {
   "cell_type": "code",
   "execution_count": 27,
   "metadata": {},
   "outputs": [
    {
     "name": "stdout",
     "output_type": "stream",
     "text": [
      "[('a', 2), ('b', 2), ('c', 2), ('d', 2)]\n"
     ]
    }
   ],
   "source": [
    "print(G.degree)"
   ]
  },
  {
   "cell_type": "code",
   "execution_count": 28,
   "metadata": {},
   "outputs": [
    {
     "data": {
      "text/plain": [
       "EdgeDataView([('a', 'b', {'color': 'black'}), ('a', 'c', {'color': 'green'}), ('b', 'd', {}), ('c', 'd', {}), (1, 2, {'weight': 1.0})])"
      ]
     },
     "execution_count": 28,
     "metadata": {},
     "output_type": "execute_result"
    }
   ],
   "source": [
    "G.add_edge(1,2, weight = 1.0)\n",
    "G.edges().data()"
   ]
  },
  {
   "attachments": {},
   "cell_type": "markdown",
   "metadata": {},
   "source": [
    "---\n",
    "## Directed Graphs"
   ]
  },
  {
   "attachments": {},
   "cell_type": "markdown",
   "metadata": {},
   "source": [
    "Networkx supports directed graphs."
   ]
  },
  {
   "cell_type": "code",
   "execution_count": 29,
   "metadata": {},
   "outputs": [
    {
     "data": {
      "image/png": "[encoded data removed]",
      "text/plain": [
       "<Figure size 432x288 with 1 Axes>"
      ]
     },
     "metadata": {},
     "output_type": "display_data"
    }
   ],
   "source": [
    "DG = nx.DiGraph()\n",
    "#we add nodes and edges as a list oftriplets (or_node, dest_node, weight)\n",
    "DG.add_weighted_edges_from([(1, 2, 0.5), (3, 1, 0.75), (3, 2, 0.4)]) \n",
    "plot_graph_with_weights(DG)"
   ]
  },
  {
   "cell_type": "code",
   "execution_count": 30,
   "metadata": {},
   "outputs": [
    {
     "name": "stdout",
     "output_type": "stream",
     "text": [
      "Successor of node 1: Node 2\n",
      "Predecssor of node 1 : Node 3\n"
     ]
    }
   ],
   "source": [
    "print(\"Successor of node 1: Node\", list(DG.successors(1))[0]) #Equivalent to DG.neighbors for directed graphs\n",
    "print(\"Predecssor of node 1 : Node\", list(DG.predecessors(1))[0])"
   ]
  },
  {
   "attachments": {},
   "cell_type": "markdown",
   "metadata": {},
   "source": [
    "We can __convert__ directed graphs to undirected one and viceversa.\n"
   ]
  },
  {
   "cell_type": "code",
   "execution_count": 31,
   "metadata": {},
   "outputs": [],
   "source": [
    "G = nx.to_undirected(DG)\n",
    "DG = nx.to_directed(G)"
   ]
  },
  {
   "attachments": {},
   "cell_type": "markdown",
   "metadata": {},
   "source": [
    "---\n",
    "## Graph Operations"
   ]
  },
  {
   "attachments": {},
   "cell_type": "markdown",
   "metadata": {},
   "source": [
    "Networkx supports most common graph operations. Some examples are \n",
    "<ul>\n",
    "<li>Union</li>\n",
    "<li>Intersection</li>\n",
    "<li>Complement</li>\n",
    "</ul>"
   ]
  },
  {
   "cell_type": "code",
   "execution_count": 32,
   "metadata": {},
   "outputs": [
    {
     "data": {
      "image/png": "[encoded data removed]",
      "text/plain": [
       "<Figure size 432x288 with 1 Axes>"
      ]
     },
     "metadata": {},
     "output_type": "display_data"
    }
   ],
   "source": [
    "# Create a first graph G\n",
    "G = nx.Graph()\n",
    "G.add_edges_from([(\"a\", \"b\"), (\"b\", \"c\"), (\"c\", \"d\")])\n",
    "\n",
    "# Create a second graph H\n",
    "H = nx.Graph()\n",
    "H.add_edges_from([(\"e\", \"f\"), (\"f\", \"g\"), (\"g\", \"h\") ])\n",
    "\n",
    "# Perform the union operation\n",
    "I = nx.union(G, H)\n",
    "plot_graph(I)"
   ]
  },
  {
   "cell_type": "code",
   "execution_count": 33,
   "metadata": {},
   "outputs": [
    {
     "data": {
      "image/png": "[encoded data removed]",
      "text/plain": [
       "<Figure size 432x288 with 1 Axes>"
      ]
     },
     "metadata": {},
     "output_type": "display_data"
    }
   ],
   "source": [
    "# Now link the two connected components\n",
    "I.add_edges_from([(\"a\",\"e\"), (\"b\", \"g\")])\n",
    "plot_graph(I)"
   ]
  },
  {
   "cell_type": "code",
   "execution_count": 35,
   "metadata": {},
   "outputs": [
    {
     "data": {
      "image/png": "[encoded data removed]",
      "text/plain": [
       "<Figure size 432x288 with 1 Axes>"
      ]
     },
     "metadata": {},
     "output_type": "display_data"
    }
   ],
   "source": [
    "# Create a third graph\n",
    "L = nx.Graph()\n",
    "\n",
    "# To perform intersection between two graphs, they must have the same nodes\n",
    "# First we copy all the nodes in I into L\n",
    "L.add_nodes_from(I.nodes())\n",
    "\n",
    "# Then we add some edge in L\n",
    "L.add_edges_from([(\"e\", \"f\"), (\"f\", \"g\")])\n",
    "\n",
    "M = nx.intersection(I, L)\n",
    "\n",
    "# Only the shared edges between I, L wil survive this operation\n",
    "plot_graph(M)"
   ]
  },
  {
   "attachments": {},
   "cell_type": "markdown",
   "metadata": {},
   "source": [
    "---\n",
    "## Graph Search\n",
    "\n",
    "Several algorithm are already implemented in NetworkX, take a look [here](https://networkx.github.io/documentation/stable/reference/algorithms/index.html)."
   ]
  },
  {
   "attachments": {},
   "cell_type": "markdown",
   "metadata": {},
   "source": [
    "### Breadth First Search (BFS)"
   ]
  },
  {
   "attachments": {},
   "cell_type": "markdown",
   "metadata": {},
   "source": [
    "With Networkx it is easy to perform  graph search. Let us start with __BFS__. \n",
    "\n",
    "We will use a __Petersen__ graph as an example, a graph with 10 nodes and 15 edges."
   ]
  },
  {
   "cell_type": "code",
   "execution_count": 36,
   "metadata": {},
   "outputs": [
    {
     "name": "stdout",
     "output_type": "stream",
     "text": [
      "Number of nodes 10\n",
      "Number of edges 15\n"
     ]
    },
    {
     "data": {
      "image/png": "[encoded data removed]",
      "text/plain": [
       "<Figure size 432x288 with 1 Axes>"
      ]
     },
     "metadata": {},
     "output_type": "display_data"
    }
   ],
   "source": [
    "petersen = nx.petersen_graph()\n",
    "print(\"Number of nodes\", petersen.order())\n",
    "print(\"Number of edges\", petersen.number_of_edges())\n",
    "plot_graph(petersen)"
   ]
  },
  {
   "attachments": {},
   "cell_type": "markdown",
   "metadata": {},
   "source": [
    "Networkx offers several __methods__ to perform BFS. Observe that in the method definition, the arguments in square brackets [ ]  are optional.\n",
    "\n",
    "- bfs_edges(G, source, [reverse, depth_limit]):  returns an iterator over edges in a breadth-first-search starting at source, until depth_limit\n",
    "- bfs_tree(G, source, [reverse, depth_limit]): returns an oriented tree constructed from of a breadth-first-search starting at source\n",
    "- bfs_predecessors(G, source, [depth_limit]): returns an iterator of predecessors in breadth-first-search from source\n",
    "- bfs_successors(G, source, [depth_limit]): returns an iterator of successors in breadth-first-search from source         "
   ]
  },
  {
   "cell_type": "code",
   "execution_count": 42,
   "metadata": {},
   "outputs": [
    {
     "name": "stdout",
     "output_type": "stream",
     "text": [
      "Result of BFS on edges: [(0, 1), (0, 4), (0, 5), (1, 2), (1, 6), (4, 3), (4, 9), (5, 7), (5, 8)]\n"
     ]
    }
   ],
   "source": [
    "# We use 0 as source node. \n",
    "edges_bfs = list(nx.bfs_edges(petersen, 0))\n",
    "print(\"Result of BFS on edges:\", edges_bfs)"
   ]
  },
  {
   "cell_type": "code",
   "execution_count": 43,
   "metadata": {},
   "outputs": [
    {
     "data": {
      "image/png": "[encoded data removed]",
      "text/plain": [
       "<Figure size 432x288 with 1 Axes>"
      ]
     },
     "metadata": {},
     "output_type": "display_data"
    }
   ],
   "source": [
    "# Another helpful way to understand is the tree that comes out from its execution. This can be done by using bfs_tree\n",
    "tree_bfs = nx.bfs_tree(petersen, 0)\n",
    "\n",
    "# Now we plot the resulting tree\n",
    "plot_tree(tree_bfs)"
   ]
  },
  {
   "attachments": {},
   "cell_type": "markdown",
   "metadata": {},
   "source": [
    "---\n",
    "\n",
    "### Depth First Search (DFS)\n"
   ]
  },
  {
   "attachments": {},
   "cell_type": "markdown",
   "metadata": {},
   "source": [
    "As for BFS,  Networkx offers several __methods__ to perform DFS. Observe that,as previously explained, in the method definition, the arguments in square brackets [ ]  are optional.\n",
    "<ul>\n",
    "  <li> dfs_edges(G, source, [reverse, depth_limit]):  returns an iterator over edges in a depth-first-search starting at source, until max_depth </li>\n",
    "<li>dfs_tree(G, source, [reverse, depth_limit]): returns an oriented tree constructed from of a depth-first-search starting at source(</li>\n",
    "<li>dfs_predecessors(G, source, [depth_limit]): returns an iterator of predecessors in depth-first-search from source</li>\n",
    "    <li>dfs_successors(G, source, [depth_limit]): returns an iterator of successors in depth-first-search from source </li>    \n",
    "    \n",
    "</ul>\n",
    "Let us now observe the difference between BFS and DFS\n",
    "        "
   ]
  },
  {
   "cell_type": "code",
   "execution_count": 69,
   "metadata": {},
   "outputs": [
    {
     "name": "stdout",
     "output_type": "stream",
     "text": [
      "Result of dfs on edges: [(0, 1), (1, 2), (2, 3), (3, 4), (4, 9), (9, 6), (6, 8), (8, 5), (5, 7)]\n"
     ]
    }
   ],
   "source": [
    "# We use 0 as source node. \n",
    "edges_dfs = list(nx.dfs_edges(petersen, 0))\n",
    "print(\"Result of dfs on edges:\",edges_dfs)"
   ]
  },
  {
   "cell_type": "code",
   "execution_count": 70,
   "metadata": {},
   "outputs": [
    {
     "data": {
      "image/png": "[encoded data removed]",
      "text/plain": [
       "<Figure size 432x288 with 1 Axes>"
      ]
     },
     "metadata": {},
     "output_type": "display_data"
    }
   ],
   "source": [
    "tree_dfs = nx.dfs_tree(petersen, 0)\n",
    "\n",
    "# Now we plot the resulting tree\n",
    "plot_tree(tree_dfs)"
   ]
  },
  {
   "attachments": {},
   "cell_type": "markdown",
   "metadata": {},
   "source": [
    "----\n",
    "### Shortest path with Dijkstra algorithm"
   ]
  },
  {
   "attachments": {},
   "cell_type": "markdown",
   "metadata": {},
   "source": [
    "Let us now move to the Dijkstra algorithm to find the shortest path between two points.\n"
   ]
  },
  {
   "cell_type": "code",
   "execution_count": 37,
   "metadata": {},
   "outputs": [],
   "source": [
    "from random import random, choice\n",
    "from networkx.utils import pairwise"
   ]
  },
  {
   "cell_type": "code",
   "execution_count": 39,
   "metadata": {},
   "outputs": [
    {
     "data": {
      "image/png": "[encoded data removed]",
      "text/plain": [
       "<Figure size 432x288 with 1 Axes>"
      ]
     },
     "metadata": {},
     "output_type": "display_data"
    },
    {
     "name": "stdout",
     "output_type": "stream",
     "text": [
      "[0, 3]\n"
     ]
    },
    {
     "ename": "ImportError",
     "evalue": "requires pygraphviz http://pygraphviz.github.io/",
     "output_type": "error",
     "traceback": [
      "\u001b[0;31m---------------------------------------------------------------------------\u001b[0m",
      "\u001b[0;31mModuleNotFoundError\u001b[0m                       Traceback (most recent call last)",
      "File \u001b[0;32m~/opt/anaconda3/lib/python3.9/site-packages/networkx/drawing/nx_agraph.py:283\u001b[0m, in \u001b[0;36mpygraphviz_layout\u001b[0;34m(G, prog, root, args)\u001b[0m\n\u001b[1;32m    282\u001b[0m \u001b[39mtry\u001b[39;00m:\n\u001b[0;32m--> 283\u001b[0m     \u001b[39mimport\u001b[39;00m \u001b[39mpygraphviz\u001b[39;00m\n\u001b[1;32m    284\u001b[0m \u001b[39mexcept\u001b[39;00m \u001b[39mImportError\u001b[39;00m \u001b[39mas\u001b[39;00m err:\n",
      "\u001b[0;31mModuleNotFoundError\u001b[0m: No module named 'pygraphviz'",
      "\nThe above exception was the direct cause of the following exception:\n",
      "\u001b[0;31mImportError\u001b[0m                               Traceback (most recent call last)",
      "\u001b[1;32m/Users/vincenzorocchi/Library/Mobile Documents/com~apple~CloudDocs/DS&BI/Second semester/Notebooks/l08/L08_Graphs_with_NetworkX_student(VR_solution).ipynb Cell 67\u001b[0m in \u001b[0;36m<cell line: 28>\u001b[0;34m()\u001b[0m\n\u001b[1;32m     <a href='vscode-notebook-cell:/Users/vincenzorocchi/Library/Mobile%20Documents/com~apple~CloudDocs/DS%26BI/Second%20semester/Notebooks/l08/L08_Graphs_with_NetworkX_student%28VR_solution%29.ipynb#Y123sZmlsZQ%3D%3D?line=25'>26</a>\u001b[0m path \u001b[39m=\u001b[39m  nx\u001b[39m.\u001b[39mdijkstra_path(G, nodes[\u001b[39m0\u001b[39m], nodes[\u001b[39m3\u001b[39m])\n\u001b[1;32m     <a href='vscode-notebook-cell:/Users/vincenzorocchi/Library/Mobile%20Documents/com~apple~CloudDocs/DS%26BI/Second%20semester/Notebooks/l08/L08_Graphs_with_NetworkX_student%28VR_solution%29.ipynb#Y123sZmlsZQ%3D%3D?line=26'>27</a>\u001b[0m \u001b[39mprint\u001b[39m(path)\n\u001b[0;32m---> <a href='vscode-notebook-cell:/Users/vincenzorocchi/Library/Mobile%20Documents/com~apple~CloudDocs/DS%26BI/Second%20semester/Notebooks/l08/L08_Graphs_with_NetworkX_student%28VR_solution%29.ipynb#Y123sZmlsZQ%3D%3D?line=27'>28</a>\u001b[0m plot_graph_and_highlight_dijistra(G, path)\n",
      "\u001b[1;32m/Users/vincenzorocchi/Library/Mobile Documents/com~apple~CloudDocs/DS&BI/Second semester/Notebooks/l08/L08_Graphs_with_NetworkX_student(VR_solution).ipynb Cell 67\u001b[0m in \u001b[0;36mplot_graph_and_highlight_dijistra\u001b[0;34m(G, path)\u001b[0m\n\u001b[1;32m     <a href='vscode-notebook-cell:/Users/vincenzorocchi/Library/Mobile%20Documents/com~apple~CloudDocs/DS%26BI/Second%20semester/Notebooks/l08/L08_Graphs_with_NetworkX_student%28VR_solution%29.ipynb#Y123sZmlsZQ%3D%3D?line=18'>19</a>\u001b[0m \u001b[39mdef\u001b[39;00m \u001b[39mplot_graph_and_highlight_dijistra\u001b[39m(G, path):\n\u001b[0;32m---> <a href='vscode-notebook-cell:/Users/vincenzorocchi/Library/Mobile%20Documents/com~apple~CloudDocs/DS%26BI/Second%20semester/Notebooks/l08/L08_Graphs_with_NetworkX_student%28VR_solution%29.ipynb#Y123sZmlsZQ%3D%3D?line=19'>20</a>\u001b[0m     pos \u001b[39m=\u001b[39m graphviz_layout(G)\n\u001b[1;32m     <a href='vscode-notebook-cell:/Users/vincenzorocchi/Library/Mobile%20Documents/com~apple~CloudDocs/DS%26BI/Second%20semester/Notebooks/l08/L08_Graphs_with_NetworkX_student%28VR_solution%29.ipynb#Y123sZmlsZQ%3D%3D?line=20'>21</a>\u001b[0m     nx\u001b[39m.\u001b[39mdraw(G, pos, with_labels \u001b[39m=\u001b[39m \u001b[39mTrue\u001b[39;00m)\n\u001b[1;32m     <a href='vscode-notebook-cell:/Users/vincenzorocchi/Library/Mobile%20Documents/com~apple~CloudDocs/DS%26BI/Second%20semester/Notebooks/l08/L08_Graphs_with_NetworkX_student%28VR_solution%29.ipynb#Y123sZmlsZQ%3D%3D?line=22'>23</a>\u001b[0m     nx\u001b[39m.\u001b[39mdraw_networkx_nodes(G, pos, nodelist\u001b[39m=\u001b[39mpath,node_color\u001b[39m=\u001b[39m\u001b[39m'\u001b[39m\u001b[39mr\u001b[39m\u001b[39m'\u001b[39m, with_labels\u001b[39m=\u001b[39m\u001b[39mTrue\u001b[39;00m)\n",
      "File \u001b[0;32m~/opt/anaconda3/lib/python3.9/site-packages/networkx/drawing/nx_agraph.py:241\u001b[0m, in \u001b[0;36mgraphviz_layout\u001b[0;34m(G, prog, root, args)\u001b[0m\n\u001b[1;32m    213\u001b[0m \u001b[39mdef\u001b[39;00m \u001b[39mgraphviz_layout\u001b[39m(G, prog\u001b[39m=\u001b[39m\u001b[39m\"\u001b[39m\u001b[39mneato\u001b[39m\u001b[39m\"\u001b[39m, root\u001b[39m=\u001b[39m\u001b[39mNone\u001b[39;00m, args\u001b[39m=\u001b[39m\u001b[39m\"\u001b[39m\u001b[39m\"\u001b[39m):\n\u001b[1;32m    214\u001b[0m     \u001b[39m\"\"\"Create node positions for G using Graphviz.\u001b[39;00m\n\u001b[1;32m    215\u001b[0m \n\u001b[1;32m    216\u001b[0m \u001b[39m    Parameters\u001b[39;00m\n\u001b[0;32m   (...)\u001b[0m\n\u001b[1;32m    239\u001b[0m \u001b[39m    This is a wrapper for pygraphviz_layout.\u001b[39;00m\n\u001b[1;32m    240\u001b[0m \u001b[39m    \"\"\"\u001b[39;00m\n\u001b[0;32m--> 241\u001b[0m     \u001b[39mreturn\u001b[39;00m pygraphviz_layout(G, prog\u001b[39m=\u001b[39;49mprog, root\u001b[39m=\u001b[39;49mroot, args\u001b[39m=\u001b[39;49margs)\n",
      "File \u001b[0;32m~/opt/anaconda3/lib/python3.9/site-packages/networkx/drawing/nx_agraph.py:285\u001b[0m, in \u001b[0;36mpygraphviz_layout\u001b[0;34m(G, prog, root, args)\u001b[0m\n\u001b[1;32m    283\u001b[0m     \u001b[39mimport\u001b[39;00m \u001b[39mpygraphviz\u001b[39;00m\n\u001b[1;32m    284\u001b[0m \u001b[39mexcept\u001b[39;00m \u001b[39mImportError\u001b[39;00m \u001b[39mas\u001b[39;00m err:\n\u001b[0;32m--> 285\u001b[0m     \u001b[39mraise\u001b[39;00m \u001b[39mImportError\u001b[39;00m(\n\u001b[1;32m    286\u001b[0m         \u001b[39m\"\u001b[39m\u001b[39mrequires pygraphviz \u001b[39m\u001b[39m\"\u001b[39m \u001b[39m\"\u001b[39m\u001b[39mhttp://pygraphviz.github.io/\u001b[39m\u001b[39m\"\u001b[39m\n\u001b[1;32m    287\u001b[0m     ) \u001b[39mfrom\u001b[39;00m \u001b[39merr\u001b[39;00m\n\u001b[1;32m    288\u001b[0m \u001b[39mif\u001b[39;00m root \u001b[39mis\u001b[39;00m \u001b[39mnot\u001b[39;00m \u001b[39mNone\u001b[39;00m:\n\u001b[1;32m    289\u001b[0m     args \u001b[39m+\u001b[39m\u001b[39m=\u001b[39m \u001b[39mf\u001b[39m\u001b[39m\"\u001b[39m\u001b[39m-Groot=\u001b[39m\u001b[39m{\u001b[39;00mroot\u001b[39m}\u001b[39;00m\u001b[39m\"\u001b[39m\n",
      "\u001b[0;31mImportError\u001b[0m: requires pygraphviz http://pygraphviz.github.io/"
     ]
    }
   ],
   "source": [
    "G = nx.Graph()\n",
    "\n",
    "n_nodes = 15\n",
    "\n",
    "# Generate nodes from 0 to n_nodes-1\n",
    "nodes = np.arange(n_nodes)\n",
    "G.add_nodes_from(nodes)\n",
    "\n",
    "# Build a path from nodes[0] to nodes[-1] to be sure it exists\n",
    "for p1, p2 in pairwise(nodes):\n",
    "    G.add_edge(p1, p2, weight=np.linalg.norm(p1-p2))\n",
    "\n",
    "    \n",
    "# Add other random edges\n",
    "new_edges = 25\n",
    "for _ in range(new_edges):\n",
    "    p1, p2 = choice(nodes), choice(nodes)\n",
    "    if p1 != nodes[0] and p2!= nodes[-1]:#avoid direct link\n",
    "        G.add_edge(p1, p2, weight=np.linalg.norm(p1-p2))\n",
    "    \n",
    "    \n",
    "plot_graph(G)\n",
    "\n",
    "\n",
    "# Compute Dijistra path\n",
    "path =  nx.dijkstra_path(G, nodes[0], nodes[3])\n",
    "print(path)\n",
    "plot_graph_and_highlight_dijistra(G, path)"
   ]
  },
  {
   "attachments": {},
   "cell_type": "markdown",
   "metadata": {},
   "source": [
    "---\n",
    "### Exercise: Strongly Connected Components\n",
    "The goal of this exercise is to implement the following algorithm to compute the strongly connected components of a directed graph $G$. [See here](https://www.hackerearth.com/practice/algorithms/graphs/strongly-connected-components/tutorial/). \n",
    "\n",
    "In a directed graph a component is strongly connected if there is a directed path from any vertex to every other vertex of the component. The problem asks to is to partition the graph into maximal strongly connected components.\n",
    "\n",
    "NetworkX provides a method to compute the strongly connected components of a graph [here](https://networkx.github.io/documentation/stable/reference/algorithms/generated/networkx.algorithms.components.strongly_connected_components.html#networkx.algorithms.components.strongly_connected_components). \n",
    "\n",
    "Your goal is to implement the Kosaraju's Linear time algorithm to find Strongly Connected Component. \n",
    "The algorithm is described [here](https://www.hackerearth.com/practice/algorithms/graphs/strongly-connected-components/tutorial).\n",
    "\n",
    "It works in three steps. \n",
    "\n",
    "- Do a DFS on the original graph, keeping track of the DFS finish times of each node. This can be done with a stack, when some  finishes put the source vertex on the stack. This way node with highest finishing time will be on top of the stack.\n",
    "- Reverse the original graph, i.e., if there is an edge $(u,v)$ in the original graph, add the edge $(v,u)$ in the reversed one.\n",
    "-  Do DFS on the reversed graph, with the source vertex as the vertex on top of the stack. When DFS finishes, all nodes visited will form one Strongly Connected Component. If any more nodes remain unvisited, this means there are more Strongly Connected Component's, so pop vertices from top of the stack until a valid unvisited node is found. This will have the highest finishing time of all currently unvisited nodes.\n",
    "\n",
    "Take a look at [DFS traversal documentation](https://networkx.github.io/documentation/stable/reference/algorithms/traversal.html#module-networkx.algorithms.traversal.depth_first_search).\n",
    "Note that the finishing time of a node can be inferred from its position in the DFS tree. \n",
    "\n",
    "\n",
    "\n",
    "![alt text](scc.webp \"Example\")"
   ]
  },
  {
   "cell_type": "code",
   "execution_count": 9,
   "metadata": {},
   "outputs": [],
   "source": [
    "def kosaraju_scc(G):\n",
    "    stack = []\n",
    "    visited = set()\n",
    "    scc = []\n",
    "    \n",
    "    for node in G:\n",
    "        if node not in visited:\n",
    "            DFS(G, node, visited, stack) # First DFS to find the order of nodes in the stack \n",
    "\n",
    "    Gr = nx.reverse(G, copy=True) # Reverse the graph\n",
    "    \n",
    "    visited = set()\n",
    "    \n",
    "    # Second DFS to find SCCs\n",
    "    while stack:\n",
    "        node = stack.pop()\n",
    "        if node in visited:\n",
    "            continue    \n",
    "        if node not in visited:\n",
    "            component = []\n",
    "            DFS(Gr, node, visited, component)\n",
    "            scc.append(set(component))\n",
    "\n",
    "    return scc\n",
    "\n",
    "def DFS(G, node, visited, component):\n",
    "    visited.add(node)\n",
    "    for n_node in G[node]:\n",
    "        if n_node not in visited:\n",
    "            DFS(G, n_node, visited, component)\n",
    "    component.append(node)\n"
   ]
  },
  {
   "cell_type": "code",
   "execution_count": 7,
   "metadata": {},
   "outputs": [],
   "source": [
    "def kosaraju_scc(G):\n",
    "    \n",
    "    stack = list(nx.dfs_postorder_nodes(G)) # First DFS to find the order of nodes in the stack\n",
    "\n",
    "    Gr = nx.reverse(G) # Reverse the graph\n",
    "\n",
    "    visited = set() \n",
    "    scc = []\n",
    "\n",
    "    while stack: # Second DFS to find SCCs \n",
    "        node = stack.pop()\n",
    "        if node not in visited:\n",
    "            component = list(nx.dfs_preorder_nodes(Gr, node))\n",
    "            visited.update(component) \n",
    "            scc.append(component)\n",
    "\n",
    "    return scc"
   ]
  },
  {
   "cell_type": "code",
   "execution_count": 8,
   "metadata": {},
   "outputs": [
    {
     "data": {
      "image/png": "[encoded data removed]",
      "text/plain": [
       "<Figure size 432x288 with 1 Axes>"
      ]
     },
     "metadata": {},
     "output_type": "display_data"
    },
    {
     "name": "stdout",
     "output_type": "stream",
     "text": [
      "Component 1: ['G', 'I', 'H']\n",
      "Component 2: ['J', 'I', 'H', 'G']\n",
      "Component 3: ['A', 'C', 'B']\n",
      "Component 4: ['D', 'B', 'A', 'C', 'F', 'E', 'G', 'I', 'H']\n",
      "Component 1: {'D', 'E', 'F'}\n",
      "Component 2: {'C', 'A', 'B'}\n",
      "Component 3: {'J'}\n",
      "Component 4: {'H', 'G', 'I'}\n"
     ]
    }
   ],
   "source": [
    "## Test your implementation here\n",
    "\n",
    "G = nx.DiGraph()\n",
    "G.add_edges_from([\n",
    "    ('A', 'B'),\n",
    "    ('B', 'C'),\n",
    "    ('C', 'A'),\n",
    "    ('B', 'D'),\n",
    "    ('D', 'E'),\n",
    "    ('E', 'F'),\n",
    "    ('F', 'D'),\n",
    "    ('G', 'F'),\n",
    "    ('G', 'H'),\n",
    "    ('H', 'I'),\n",
    "    ('I', 'G'),\n",
    "    ('I', 'J'),\n",
    "])\n",
    "\n",
    "nx.draw(G, with_labels=True, font_weight='bold')\n",
    "plt.show()\n",
    "\n",
    "scc = kosaraju_scc(G)\n",
    "\n",
    "for i, component in enumerate(scc, start=1):\n",
    "    print(f\"Component {i}: {component}\")\n",
    "    \n",
    "scc_nx = list(nx.strongly_connected_components(G))\n",
    "\n",
    "for i, component in enumerate(scc_nx, start=1):\n",
    "    print(f\"Component {i}: {component}\")\n"
   ]
  },
  {
   "cell_type": "code",
   "execution_count": null,
   "metadata": {},
   "outputs": [],
   "source": []
  }
 ],
 "metadata": {
  "kernelspec": {
   "display_name": "Python 3 (ipykernel)",
   "language": "python",
   "name": "python3"
  },
  "language_info": {
   "codemirror_mode": {
    "name": "ipython",
    "version": 3
   },
   "file_extension": ".py",
   "mimetype": "text/x-python",
   "name": "python",
   "nbconvert_exporter": "python",
   "pygments_lexer": "ipython3",
   "version": "3.9.12"
  }
 },
 "nbformat": 4,
 "nbformat_minor": 2
}
