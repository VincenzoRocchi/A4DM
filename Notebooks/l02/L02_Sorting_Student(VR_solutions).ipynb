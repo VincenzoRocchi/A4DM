{
 "cells": [
  {
   "attachments": {},
   "cell_type": "markdown",
   "metadata": {},
   "source": [
    "## Advanced Sorting Algorithms: QuickSort and Merge Sort"
   ]
  },
  {
   "cell_type": "code",
   "execution_count": 8,
   "metadata": {},
   "outputs": [],
   "source": [
    "## Define some function useful for testing\n",
    "import random\n",
    "\n",
    "## generate an array of n random integers up to 10000\n",
    "def get_random_array(n):\n",
    "    return [random.randint(0, 10000) for _ in range(n)]\n",
    "\n",
    "def test_sorting_algorithm(algorithm):\n",
    "    for _ in range(100):\n",
    "        A = get_random_array(random.randint(0, 1000))\n",
    "        A_sorted = algorithm(A)\n",
    "        assert A_sorted == sorted(A), \"FAIL!\"\n",
    "        \n",
    "def get_h(A):\n",
    "    return len(A)-1\n",
    "    \n",
    "# testing testing function\n",
    "test_sorting_algorithm(sorted)"
   ]
  },
  {
   "attachments": {},
   "cell_type": "markdown",
   "metadata": {},
   "source": [
    "## QuickSort \n",
    "\n",
    "Quicksort is a divide-and-conquer algorithm. It works by selecting a 'pivot' element from the array and partitioning the other elements into two sub-arrays, according to whether they are less than or greater than the pivot. The sub-arrays are then sorted recursively. This can be done **in-place**, requiring small additional amounts of memory to perform the sorting.\n",
    "\n",
    "Thus, the most important part of QuickSort is its partition algorithm. \n",
    "Given a pivot element, the partition algorithm splits a subarray into three parts.\n",
    "\n",
    "- Elements that are smaller than or equal to the pivot\n",
    "- The pivot\n",
    "- Elements that are greater than or equal to the pivot\n",
    "\n",
    "The algorithm works in-place, i.e., it performs the partition within the subarray itself without any extra space."
   ]
  },
  {
   "attachments": {},
   "cell_type": "markdown",
   "metadata": {},
   "source": [
    "![alt text](partition_algorithm.png \"Partition: pseudocode\")"
   ]
  },
  {
   "attachments": {},
   "cell_type": "markdown",
   "metadata": {},
   "source": [
    "![alt text](partition_figure.png \"Figure\")"
   ]
  },
  {
   "attachments": {},
   "cell_type": "markdown",
   "metadata": {},
   "source": [
    "![alt text](partition_running_example.png \"Title\")"
   ]
  },
  {
   "attachments": {},
   "cell_type": "markdown",
   "metadata": {},
   "source": [
    "### Exercise: Binary Vector\n",
    "You are given a binary vector, i.e., each element is either 0 or 1. Implements an easy variant of partition to sort the vector."
   ]
  },
  {
   "cell_type": "code",
   "execution_count": 51,
   "metadata": {},
   "outputs": [
    {
     "name": "stdout",
     "output_type": "stream",
     "text": [
      "[0, 0, 1, 1, 0, 1, 1, 0, 1, 0, 0, 0, 0, 1, 1, 0, 0, 1, 0, 0]\n"
     ]
    }
   ],
   "source": [
    "import random \n",
    "\n",
    "binary = [random.randint(0,1) for _ in range(20)]\n",
    "print(binary)"
   ]
  },
  {
   "cell_type": "code",
   "execution_count": 52,
   "metadata": {},
   "outputs": [
    {
     "data": {
      "text/plain": [
       "[0, 0, 0, 0, 0, 0, 0, 0, 0, 0, 0, 0, 1, 1, 1, 1, 1, 1, 1, 1]"
      ]
     },
     "execution_count": 52,
     "metadata": {},
     "output_type": "execute_result"
    }
   ],
   "source": [
    "## Your implementation goes here\n",
    "\n",
    "def binary_sort(A):\n",
    "    left = 0\n",
    "    right = len(A) - 1\n",
    "\n",
    "    while left < right:\n",
    "        while A[left] == 0 and left < right:\n",
    "            left += 1\n",
    "        while A[right] == 1 and left < right:\n",
    "            right -= 1\n",
    "\n",
    "        if left < right:\n",
    "            A[left], A[right] = A[right], A[left]\n",
    "            left += 1\n",
    "            right -= 1\n",
    "\n",
    "    return A\n",
    "\n",
    "binary_sort(binary)"
   ]
  },
  {
   "attachments": {},
   "cell_type": "markdown",
   "metadata": {},
   "source": [
    "### Exercise: QuickSort\n",
    "Below an implementation of QuickSort. \n",
    "\n",
    "In this exercise you have to:\n",
    "- Write detailed comments to describe crucial parts of the code below (to prove you have understand it)\n",
    "- Implement a random selection of the pivot element"
   ]
  },
  {
   "cell_type": "code",
   "execution_count": 8,
   "metadata": {},
   "outputs": [],
   "source": [
    "def partition(A, low = 0, high = None):\n",
    "\n",
    "    if high is None:\n",
    "        high = len(A) - 1\n",
    "    \n",
    "    pivot = random.randint(low, high) ## add here random selection of the pivot\n",
    "    A[pivot], A[high] = A[high], A[pivot] ## swapping the randomly selected pivot to the last position of the array\n",
    "    \n",
    "    pivot = [high] ## setting back the pivot to the last position since we already swapped the chosen one\n",
    "    i = low -1  # setting index 1 position outside the array\n",
    "    \n",
    "    for j in range(low, high): # traversing the partition(s) with a for loop\n",
    "        if A[j] <= pivot: # executing condition \"<=\"(traversing index against pivot)\n",
    "            i = i+1 # if the condition holds, i moves forward by 1 every time, to track the index position\n",
    "                    # of the < than pivot p|art of the array (-1 cause it was none till the firs condition check)\n",
    "            A[i], A[j] = A[j], A[i] #-u swapping the position of the element < than pivot with \n",
    "                                    # i (index of green part), if it's already smaller thant it just update the\n",
    "                                    # the index to match the < than part of array\n",
    "                                    \n",
    "    A[i+1], A[high] = A[high], A[i+1] # moving to the last part of the array the last bigger than the pivot number to get the array properly partitioned\n",
    "    return i+1 #returning the index "
   ]
  },
  {
   "cell_type": "code",
   "execution_count": 9,
   "metadata": {},
   "outputs": [],
   "source": [
    "def quickSort_rec(A, low, high): # recursive implementation of the partition alorithm \n",
    "    if low < high: # checks if the lower index is less thant the higher one if true there are things to be sorted still\n",
    "        pi = partition(A, low, high) \n",
    "        quickSort_rec(A, low, pi-1) # recursive call on one half\n",
    "        quickSort_rec(A, pi+1, high) # recursive call on the other half till the array is sorted"
   ]
  },
  {
   "cell_type": "code",
   "execution_count": 10,
   "metadata": {},
   "outputs": [],
   "source": [
    "def quickSort(A):\n",
    "    B = A[:] # Copy the array just because we decided to return a sorted copy of the original array \n",
    "    quickSort_rec(B, low = 0, high = len(B)-1) \n",
    "    return B"
   ]
  },
  {
   "cell_type": "code",
   "execution_count": 6,
   "metadata": {},
   "outputs": [],
   "source": [
    "test_sorting_algorithm(quickSort)"
   ]
  },
  {
   "cell_type": "code",
   "execution_count": 11,
   "metadata": {},
   "outputs": [
    {
     "data": {
      "text/plain": [
       "[4, 3, 2, 1]"
      ]
     },
     "execution_count": 11,
     "metadata": {},
     "output_type": "execute_result"
    }
   ],
   "source": [
    "quickSort([2, 1, 4, 3])"
   ]
  },
  {
   "attachments": {},
   "cell_type": "markdown",
   "metadata": {},
   "source": [
    "## Let's do some experiments\n",
    "\n",
    "Is QuickSort faster than InsertionSort and SelectionSort in practice?"
   ]
  },
  {
   "cell_type": "code",
   "execution_count": 27,
   "metadata": {},
   "outputs": [],
   "source": [
    "def insertionSort(coll):\n",
    "    A = list(coll)\n",
    "    for i in range(1, len(A)):\n",
    "        curr = A[i]\n",
    "        j = i-1\n",
    "        while j >= 0 and curr < A[j]:\n",
    "            A[j+1] = A[j]\n",
    "            j -= 1\n",
    "        A[j+1] = curr\n",
    "    return A"
   ]
  },
  {
   "cell_type": "code",
   "execution_count": 28,
   "metadata": {},
   "outputs": [],
   "source": [
    "def selectionSort(coll):\n",
    "    A = list(coll)\n",
    "    for i in range(len(A)): \n",
    "        # Find the minimum element in remaining unsorted array \n",
    "        min_idx = i \n",
    "        for j in range(i+1, len(A)): \n",
    "            if A[min_idx] > A[j]: \n",
    "                min_idx = j \n",
    "\n",
    "        # Swap the found minimum element with  \n",
    "        # the first element         \n",
    "        A[i], A[min_idx] = A[min_idx], A[i]\n",
    "    return A"
   ]
  },
  {
   "cell_type": "code",
   "execution_count": 29,
   "metadata": {},
   "outputs": [],
   "source": [
    "A = get_random_array(10000)"
   ]
  },
  {
   "cell_type": "code",
   "execution_count": 30,
   "metadata": {},
   "outputs": [
    {
     "name": "stdout",
     "output_type": "stream",
     "text": [
      "24.3 ms ± 418 µs per loop (mean ± std. dev. of 7 runs, 10 loops each)\n"
     ]
    }
   ],
   "source": [
    "%timeit quickSort(A)"
   ]
  },
  {
   "cell_type": "code",
   "execution_count": 31,
   "metadata": {},
   "outputs": [
    {
     "name": "stdout",
     "output_type": "stream",
     "text": [
      "2.89 s ± 21 ms per loop (mean ± std. dev. of 7 runs, 1 loop each)\n"
     ]
    }
   ],
   "source": [
    "%timeit insertionSort(A)"
   ]
  },
  {
   "cell_type": "code",
   "execution_count": 32,
   "metadata": {},
   "outputs": [
    {
     "name": "stdout",
     "output_type": "stream",
     "text": [
      "2.69 s ± 19 ms per loop (mean ± std. dev. of 7 runs, 1 loop each)\n"
     ]
    }
   ],
   "source": [
    "%timeit selectionSort(A)"
   ]
  },
  {
   "attachments": {},
   "cell_type": "markdown",
   "metadata": {},
   "source": [
    "## More than     ~20x faster with arrays of length    10 000. IS takes 3.4 secs\n",
    "### More than   ~200x faster with arrays of length   100 000. IS takes 5.6 mins\n",
    "### More than ~2 000x faster with arrays of length 1 000 000. IS takes 9.4 hours. QS takes 16.2 secs.\n",
    "### More than ~20 000x faster with arrays of length 10 000 000. IS takes 39,3 days. QS takes 5.6 mins.\n",
    "### More than ~200 000x faster with arrays of length 100 000 000. IS takes 10,8 years. QS take 56 mins.\n",
    "\n",
    "Try to run the experiments with an array of 1.000.000. **Run insertion sort and selection sort just before you go to sleep.** "
   ]
  },
  {
   "attachments": {},
   "cell_type": "markdown",
   "metadata": {},
   "source": [
    "### Let's see how time changes by increasing the length of the array"
   ]
  },
  {
   "cell_type": "code",
   "execution_count": 33,
   "metadata": {},
   "outputs": [
    {
     "name": "stdout",
     "output_type": "stream",
     "text": [
      "1.64 µs ± 11.9 ns per loop (mean ± std. dev. of 7 runs, 1,000,000 loops each)\n",
      "435 ns ± 1.51 ns per loop (mean ± std. dev. of 7 runs, 1,000,000 loops each)\n",
      "767 ns ± 3.04 ns per loop (mean ± std. dev. of 7 runs, 1,000,000 loops each)\n",
      "3.67 µs ± 43.6 ns per loop (mean ± std. dev. of 7 runs, 100,000 loops each)\n",
      "858 ns ± 11.8 ns per loop (mean ± std. dev. of 7 runs, 1,000,000 loops each)\n",
      "1.6 µs ± 23.8 ns per loop (mean ± std. dev. of 7 runs, 1,000,000 loops each)\n",
      "8.24 µs ± 179 ns per loop (mean ± std. dev. of 7 runs, 100,000 loops each)\n",
      "2.94 µs ± 19.8 ns per loop (mean ± std. dev. of 7 runs, 100,000 loops each)\n",
      "3.69 µs ± 191 ns per loop (mean ± std. dev. of 7 runs, 100,000 loops each)\n",
      "18.4 µs ± 390 ns per loop (mean ± std. dev. of 7 runs, 100,000 loops each)\n",
      "9.26 µs ± 106 ns per loop (mean ± std. dev. of 7 runs, 100,000 loops each)\n",
      "10 µs ± 18 ns per loop (mean ± std. dev. of 7 runs, 100,000 loops each)\n",
      "38.8 µs ± 610 ns per loop (mean ± std. dev. of 7 runs, 10,000 loops each)\n",
      "24.5 µs ± 278 ns per loop (mean ± std. dev. of 7 runs, 10,000 loops each)\n",
      "33.7 µs ± 264 ns per loop (mean ± std. dev. of 7 runs, 10,000 loops each)\n",
      "83.9 µs ± 456 ns per loop (mean ± std. dev. of 7 runs, 10,000 loops each)\n",
      "105 µs ± 1.22 µs per loop (mean ± std. dev. of 7 runs, 10,000 loops each)\n",
      "114 µs ± 294 ns per loop (mean ± std. dev. of 7 runs, 10,000 loops each)\n",
      "183 µs ± 1.91 µs per loop (mean ± std. dev. of 7 runs, 10,000 loops each)\n",
      "408 µs ± 4.83 µs per loop (mean ± std. dev. of 7 runs, 1,000 loops each)\n",
      "444 µs ± 8.5 µs per loop (mean ± std. dev. of 7 runs, 1,000 loops each)\n",
      "399 µs ± 2.57 µs per loop (mean ± std. dev. of 7 runs, 1,000 loops each)\n",
      "1.69 ms ± 12.6 µs per loop (mean ± std. dev. of 7 runs, 1,000 loops each)\n",
      "1.66 ms ± 12.4 µs per loop (mean ± std. dev. of 7 runs, 1,000 loops each)\n",
      "883 µs ± 6.1 µs per loop (mean ± std. dev. of 7 runs, 1,000 loops each)\n",
      "6.94 ms ± 44.1 µs per loop (mean ± std. dev. of 7 runs, 100 loops each)\n",
      "7.16 ms ± 114 µs per loop (mean ± std. dev. of 7 runs, 100 loops each)\n",
      "1.94 ms ± 19.8 µs per loop (mean ± std. dev. of 7 runs, 1,000 loops each)\n",
      "28.5 ms ± 207 µs per loop (mean ± std. dev. of 7 runs, 10 loops each)\n",
      "28.6 ms ± 772 µs per loop (mean ± std. dev. of 7 runs, 10 loops each)\n"
     ]
    }
   ],
   "source": [
    "qs_t = []\n",
    "is_t = []\n",
    "ss_t = []\n",
    "\n",
    "lens = [2**i for i in range(1, 11)]\n",
    "\n",
    "for n in lens:\n",
    "    A = get_random_array(n)\n",
    "    result = %timeit -o quickSort(A)\n",
    "    qs_t.append( result.best )\n",
    "    result = %timeit -o insertionSort(A)\n",
    "    is_t.append( result.best )\n",
    "    result = %timeit -o selectionSort(A)\n",
    "    ss_t.append( result.best )"
   ]
  },
  {
   "cell_type": "code",
   "execution_count": 34,
   "metadata": {},
   "outputs": [],
   "source": [
    "import matplotlib.pyplot as plt # standard way to import\n",
    "\n",
    "%matplotlib inline \n",
    "#any cell within the notebook that creates a plot will embed a PNG image of the resulting graphic\n",
    "\n",
    "plt.rcParams[\"figure.figsize\"] = (20,10)\n",
    "plt.style.use('ggplot')"
   ]
  },
  {
   "cell_type": "code",
   "execution_count": 35,
   "metadata": {},
   "outputs": [
    {
     "data": {
      "image/png": "[encoded data removed]",
      "text/plain": [
       "<Figure size 2000x1000 with 1 Axes>"
      ]
     },
     "metadata": {},
     "output_type": "display_data"
    }
   ],
   "source": [
    "fig = plt.figure()\n",
    "ax = fig.add_subplot(1, 1, 1)\n",
    "\n",
    "ax.plot(lens, qs_t, \"g--\", label=\"QuickSort\")\n",
    "ax.plot(lens, is_t, \"r--\", label=\"InsertionSort\")\n",
    "ax.plot(lens, ss_t, \"b--\", label=\"SelectionSort\")\n",
    "\n",
    "_ = ax.legend(loc=\"best\")"
   ]
  },
  {
   "attachments": {},
   "cell_type": "markdown",
   "metadata": {},
   "source": [
    "## Merge Sort\n",
    "Merge Sort is an efficient, general-purpose, comparison-based sorting algorithm. Most implementations produce a **stable sort**, which means that the order of equal elements is the same in the input and output. \n",
    "\n",
    "Merge sort is a divide and conquer algorithm that was invented by John von Neumann in 1945.\n",
    "\n",
    "Below a running example."
   ]
  },
  {
   "attachments": {},
   "cell_type": "markdown",
   "metadata": {},
   "source": [
    "![alt text](mergesort_figure.png \"Title\")"
   ]
  },
  {
   "attachments": {},
   "cell_type": "markdown",
   "metadata": {},
   "source": [
    "### Exercise: Merge Sort\n",
    "Complete the implementation of Merge Sort by implementing function ```merge()```."
   ]
  },
  {
   "cell_type": "code",
   "execution_count": 11,
   "metadata": {},
   "outputs": [],
   "source": [
    "## Your implementation here!!!\n",
    "\n",
    "def merge(A,l,m,r):\n",
    "    B = []\n",
    "    LA = A[l:m+1]\n",
    "    RA = A[(m+1):(r+1)]\n",
    "    i=j=0\n",
    "    k = l\n",
    "    \n",
    "    while i < len(LA) and j < len(RA): \n",
    "        if LA[i] <= RA[j]:\n",
    "            A[k] = LA[i]\n",
    "            i+=1\n",
    "        else:\n",
    "            A[k] = RA[j]\n",
    "            j+=1\n",
    "        k += 1\n",
    "    \n",
    "    while i < len(LA): # copy and sort of the remaining elements in the left array\n",
    "        A[k] = LA[i]\n",
    "        i += 1\n",
    "        k += 1\n",
    "\n",
    "    while j < len(RA): # copy and sort of the remaining elements in the right array\n",
    "        A[k] = RA[j]\n",
    "        j += 1\n",
    "        k += 1"
   ]
  },
  {
   "cell_type": "code",
   "execution_count": 12,
   "metadata": {},
   "outputs": [],
   "source": [
    "def mergeSort_rec(A, l, r): \n",
    "    \n",
    "    if l < r:       \n",
    "        m = (l+(r-1))//2  # Same as (l+r)//2, but avoids overflow for large l and h \n",
    "    \n",
    "        # Sort first and second halves \n",
    "        mergeSort_rec(A, l, m) \n",
    "        mergeSort_rec(A, m+1, r) \n",
    "        merge(A, l, m, r)"
   ]
  },
  {
   "cell_type": "code",
   "execution_count": 13,
   "metadata": {},
   "outputs": [],
   "source": [
    "def mergeSort(B):\n",
    "    A = B[:] # Copy the array just because we decided to return a sorted copy of the original array \n",
    "    mergeSort_rec(A, 0, len(A)-1)\n",
    "    return A"
   ]
  },
  {
   "cell_type": "code",
   "execution_count": 14,
   "metadata": {},
   "outputs": [
    {
     "ename": "AssertionError",
     "evalue": "FAIL!",
     "output_type": "error",
     "traceback": [
      "\u001b[0;31m---------------------------------------------------------------------------\u001b[0m",
      "\u001b[0;31mAssertionError\u001b[0m                            Traceback (most recent call last)",
      "\u001b[1;32m/Users/vincenzorocchi/Library/Mobile Documents/com~apple~CloudDocs/DS&BI/Second semester/Notebooks/l02/L02_Sorting_Student(VR_solutions).ipynb Cell 34\u001b[0m in \u001b[0;36m<cell line: 1>\u001b[0;34m()\u001b[0m\n\u001b[0;32m----> <a href='vscode-notebook-cell:/Users/vincenzorocchi/Library/Mobile%20Documents/com~apple~CloudDocs/DS%26BI/Second%20semester/Notebooks/l02/L02_Sorting_Student%28VR_solutions%29.ipynb#X45sZmlsZQ%3D%3D?line=0'>1</a>\u001b[0m test_sorting_algorithm(mergeSort)\n",
      "\u001b[1;32m/Users/vincenzorocchi/Library/Mobile Documents/com~apple~CloudDocs/DS&BI/Second semester/Notebooks/l02/L02_Sorting_Student(VR_solutions).ipynb Cell 34\u001b[0m in \u001b[0;36mtest_sorting_algorithm\u001b[0;34m(algorithm)\u001b[0m\n\u001b[1;32m     <a href='vscode-notebook-cell:/Users/vincenzorocchi/Library/Mobile%20Documents/com~apple~CloudDocs/DS%26BI/Second%20semester/Notebooks/l02/L02_Sorting_Student%28VR_solutions%29.ipynb#X45sZmlsZQ%3D%3D?line=9'>10</a>\u001b[0m A \u001b[39m=\u001b[39m get_random_array(random\u001b[39m.\u001b[39mrandint(\u001b[39m0\u001b[39m, \u001b[39m1000\u001b[39m))\n\u001b[1;32m     <a href='vscode-notebook-cell:/Users/vincenzorocchi/Library/Mobile%20Documents/com~apple~CloudDocs/DS%26BI/Second%20semester/Notebooks/l02/L02_Sorting_Student%28VR_solutions%29.ipynb#X45sZmlsZQ%3D%3D?line=10'>11</a>\u001b[0m A_sorted \u001b[39m=\u001b[39m algorithm(A)\n\u001b[0;32m---> <a href='vscode-notebook-cell:/Users/vincenzorocchi/Library/Mobile%20Documents/com~apple~CloudDocs/DS%26BI/Second%20semester/Notebooks/l02/L02_Sorting_Student%28VR_solutions%29.ipynb#X45sZmlsZQ%3D%3D?line=11'>12</a>\u001b[0m \u001b[39massert\u001b[39;00m A_sorted \u001b[39m==\u001b[39m \u001b[39msorted\u001b[39m(A), \u001b[39m\"\u001b[39m\u001b[39mFAIL!\u001b[39m\u001b[39m\"\u001b[39m\n",
      "\u001b[0;31mAssertionError\u001b[0m: FAIL!"
     ]
    }
   ],
   "source": [
    "test_sorting_algorithm(mergeSort)"
   ]
  },
  {
   "cell_type": "code",
   "execution_count": 10,
   "metadata": {},
   "outputs": [],
   "source": [
    "A = get_random_array(100)"
   ]
  },
  {
   "cell_type": "code",
   "execution_count": 64,
   "metadata": {},
   "outputs": [
    {
     "name": "stdout",
     "output_type": "stream",
     "text": [
      "24.3 ms ± 291 µs per loop (mean ± std. dev. of 7 runs, 10 loops each)\n"
     ]
    }
   ],
   "source": [
    "%timeit quickSort(A)"
   ]
  },
  {
   "cell_type": "code",
   "execution_count": 46,
   "metadata": {},
   "outputs": [
    {
     "name": "stdout",
     "output_type": "stream",
     "text": [
      "33.1 ms ± 265 µs per loop (mean ± std. dev. of 7 runs, 10 loops each)\n"
     ]
    }
   ],
   "source": [
    "%timeit mergeSort(A)"
   ]
  },
  {
   "cell_type": "code",
   "execution_count": null,
   "metadata": {},
   "outputs": [],
   "source": []
  }
 ],
 "metadata": {
  "kernelspec": {
   "display_name": "Python 3 (ipykernel)",
   "language": "python",
   "name": "python3"
  },
  "language_info": {
   "codemirror_mode": {
    "name": "ipython",
    "version": 3
   },
   "file_extension": ".py",
   "mimetype": "text/x-python",
   "name": "python",
   "nbconvert_exporter": "python",
   "pygments_lexer": "ipython3",
   "version": "3.9.12"
  },
  "latex_envs": {
   "LaTeX_envs_menu_present": true,
   "autoclose": false,
   "autocomplete": true,
   "bibliofile": "biblio.bib",
   "cite_by": "apalike",
   "current_citInitial": 1,
   "eqLabelWithNumbers": true,
   "eqNumInitial": 1,
   "hotkeys": {
    "equation": "Ctrl-E",
    "itemize": "Ctrl-I"
   },
   "labels_anchors": false,
   "latex_user_defs": false,
   "report_style_numbering": false,
   "user_envs_cfg": false
  },
  "varInspector": {
   "cols": {
    "lenName": 16,
    "lenType": 16,
    "lenVar": 40
   },
   "kernels_config": {
    "python": {
     "delete_cmd_postfix": "",
     "delete_cmd_prefix": "del ",
     "library": "var_list.py",
     "varRefreshCmd": "print(var_dic_list())"
    },
    "r": {
     "delete_cmd_postfix": ") ",
     "delete_cmd_prefix": "rm(",
     "library": "var_list.r",
     "varRefreshCmd": "cat(var_dic_list()) "
    }
   },
   "types_to_exclude": [
    "module",
    "function",
    "builtin_function_or_method",
    "instance",
    "_Feature"
   ],
   "window_display": false
  }
 },
 "nbformat": 4,
 "nbformat_minor": 4
}
