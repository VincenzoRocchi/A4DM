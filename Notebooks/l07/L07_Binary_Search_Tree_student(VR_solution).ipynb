{
 "cells": [
  {
   "attachments": {},
   "cell_type": "markdown",
   "metadata": {},
   "source": [
    "# Binary Search Trees (BSTs)\n",
    "----"
   ]
  },
  {
   "cell_type": "code",
   "execution_count": 1,
   "metadata": {},
   "outputs": [],
   "source": [
    "## Define some function useful for testing\n",
    "import random\n",
    "\n",
    "## generate an array of n random integers up to b\n",
    "def get_random_array(n, b = 50):\n",
    "    return [random.randint(0, b) for _ in range(n)]"
   ]
  },
  {
   "attachments": {},
   "cell_type": "markdown",
   "metadata": {},
   "source": [
    "Hashing-based data structures are efficient solutions to index a set of keys providing three operations:\n",
    "- Insert a new key in the set\n",
    "- Delete a key from the set\n",
    "- Search a key in the set (and return its associated value).\n",
    "\n",
    "Binary Search Tree (BST) extends the set of operations with more ones.\n",
    "\n",
    "- Min/max keys in the set\n",
    "- Predecessor of a value, i.e., largest key in the set which is smaller than the given one\n",
    "- Successor of a value, i.e., smallest key in the set which is greater than the given one\n",
    "\n",
    "Implementing the above operations gives a **sorted map** (or ordered map).\n",
    "\n",
    "\n",
    "Notice that if the set would be **static** (i.e., no insert and delete) the problem can be easily solved with \n",
    "binary search on a sorted array. This is the goal of the first exercise. "
   ]
  },
  {
   "attachments": {},
   "cell_type": "markdown",
   "metadata": {},
   "source": [
    "---\n",
    "### Exercise: Static sorted map\n",
    "Complete and test the implementation below. You have to use binary search to solve predecessor and successor queries on a sorted array."
   ]
  },
  {
   "cell_type": "code",
   "execution_count": 3,
   "metadata": {},
   "outputs": [],
   "source": [
    "class StaticSortedMap:\n",
    "    def __init__(self, A): # assume A is already sorted\n",
    "        self.sorted_map = A[:] # copy input array\n",
    "        \n",
    "    def min(self):\n",
    "        return self.sorted_map[0]\n",
    "    \n",
    "    def max(self):\n",
    "        return self.sorted_map[-1]\n",
    "        \n",
    "    def search(self, key): ## in our pseudocode BinarySearch(A, s, e, key)\n",
    "        def __binary_search(p, e, key):\n",
    "            if p <= e:\n",
    "                mid = (p+e) // 2\n",
    "                if self.sorted_map[mid] == key:\n",
    "                    return (True, mid)\n",
    "                \n",
    "                elif self.sorted_map[mid] > key:\n",
    "                    return __binary_search(p, mid-1, key)\n",
    "                \n",
    "                elif self.sorted_map[mid] < key:\n",
    "                    return __binary_search(mid+1, e, key)\n",
    "            \n",
    "            else:\n",
    "                if key < self.sorted_map[p]:\n",
    "                    return (False, p)\n",
    "                else:\n",
    "                    return (False, p+1)\n",
    "                     \n",
    "        return __binary_search(0, len(self.sorted_map)-1, key)\n",
    "        \n",
    "    def predecessor(self, key):\n",
    "        value, position = self.search(key)\n",
    "        if value:\n",
    "            if position == 0:\n",
    "                return None\n",
    "            else:\n",
    "                return (position -1, self.sorted_map[position-1])\n",
    "        else:\n",
    "            return \"key not found\"\n",
    "        \n",
    "    def successor(self, key):\n",
    "        value, position = self.search(key)\n",
    "        if value:\n",
    "            if position == len(self.sorted_map)-1:\n",
    "                return None\n",
    "            else:\n",
    "                return (position +1, self.sorted_map[position+1])\n",
    "        else:\n",
    "            return \"key not found\"\n",
    "        "
   ]
  },
  {
   "cell_type": "code",
   "execution_count": 24,
   "metadata": {},
   "outputs": [
    {
     "name": "stdout",
     "output_type": "stream",
     "text": [
      "(True, 5)\n",
      "(4, 5)\n",
      "(6, 20)\n"
     ]
    }
   ],
   "source": [
    "## Test your implementation here\n",
    "\n",
    "A = [1,2,3,4,5,10,20,50]\n",
    "ssm = StaticSortedMap(A)\n",
    "\n",
    "print(ssm.search(10))\n",
    "print(ssm.predecessor(10))\n",
    "print(ssm.successor(10))"
   ]
  },
  {
   "attachments": {},
   "cell_type": "markdown",
   "metadata": {},
   "source": [
    "---\n",
    "## Sorted map with Binary Search Tree"
   ]
  },
  {
   "cell_type": "code",
   "execution_count": 34,
   "metadata": {},
   "outputs": [],
   "source": [
    "class BinarySearchTree:\n",
    "    # This is a Node class that is internal to the BinarySearchTree class\n",
    "    class __Node:\n",
    "        def __init__(self, val, left=None, right=None):\n",
    "            self.val = val\n",
    "            self.left = left\n",
    "            self.right = right\n",
    "            \n",
    "        def getVal(self): \n",
    "            return self.val\n",
    "\n",
    "        def setVal(self, newval): \n",
    "            self.val = newval\n",
    "            \n",
    "        def getLeft(self): \n",
    "            return self.left\n",
    "        \n",
    "        def getRight(self): \n",
    "            return self.right\n",
    "        \n",
    "        def setLeft(self, newleft): \n",
    "            self.left = newleft\n",
    "        \n",
    "        def setRight(self, newright): \n",
    "            self.right = newright\n",
    "            \n",
    "        # This method deserves a little explanation. It does an inorder traversal\n",
    "        # of the nodes of the tree yielding all the values. In this way, we get\n",
    "        # the values in ascending order.       \n",
    "        def __iter__(self):\n",
    "            if self.left != None:\n",
    "                for elem in self.left: \n",
    "                    yield elem\n",
    "            yield self.val\n",
    "            if self.right != None:\n",
    "                for elem in self.right:\n",
    "                    yield elem\n",
    "                    \n",
    "    # Below methods of the BinarySearchTree class.\n",
    "    def __init__(self): \n",
    "        self.root = None\n",
    "         \n",
    "    def insert(self, val):   \n",
    "        # The __insert function is recursive and is not a passed a self parameter. It is a # static function (not a method of the class) but is hidden inside the insert\n",
    "        # function so users of the class will not know it exists.\n",
    "        def __insert(root, val): \n",
    "            if root == None:\n",
    "                return BinarySearchTree.__Node(val)\n",
    "            if val < root.getVal(): \n",
    "                root.setLeft( __insert(root.getLeft(), val) )\n",
    "            else: \n",
    "                root.setRight( __insert(root.getRight(), val) )\n",
    "            return root\n",
    "        \n",
    "        self.root = __insert(self.root, val)\n",
    "    \n",
    "    def search(self, x):\n",
    "        def __search(node, x):\n",
    "            if x == node.getVal():\n",
    "                return True\n",
    "            if x > node.getVal():\n",
    "                return __search(node.getRight(), x)\n",
    "            if x < node.getVal():\n",
    "                return __search(node.getLeft(), x)\n",
    "            else:\n",
    "                return False\n",
    "        return __search(self.root, x)\n",
    "    "
   ]
  },
  {
   "cell_type": "code",
   "execution_count": 43,
   "metadata": {},
   "outputs": [
    {
     "name": "stdout",
     "output_type": "stream",
     "text": [
      "[0, 0, 0, 0, 2, 2, 2, 3, 4, 4]\n",
      "['aaa', 'ciao', 'zzz', 'zzzW']\n",
      "[1, 2, 3, 4, 5, 6, 7, 8]\n"
     ]
    },
    {
     "data": {
      "text/plain": [
       "True"
      ]
     },
     "execution_count": 43,
     "metadata": {},
     "output_type": "execute_result"
    }
   ],
   "source": [
    "a = get_random_array(100)\n",
    "\n",
    "bst = BinarySearchTree()\n",
    "\n",
    "for x in a: \n",
    "    bst.insert(x)\n",
    "\n",
    "print([x for x in bst.root][:10])\n",
    "    \n",
    "assert [x for x in bst.root] == sorted(a), \"FAIL insert!\"\n",
    "\n",
    "\n",
    "## It works with strings as well\n",
    "\n",
    "a = [\"ciao\", \"aaa\", \"zzz\", \"zzzW\"]\n",
    "\n",
    "bst_strings = BinarySearchTree()\n",
    "\n",
    "for string in a:\n",
    "    bst_strings.insert(string)\n",
    "\n",
    "print([x for x in bst_strings.root])\n",
    "\n",
    "assert [x for x in bst_strings.root] == sorted(a), \"FAIL!\""
   ]
  },
  {
   "attachments": {},
   "cell_type": "markdown",
   "metadata": {},
   "source": [
    "### Exercise: Binary Search Tree\n",
    "Extend the previous implementation of Binary Search Trees to support **search(x)** operation. Test your implementation."
   ]
  },
  {
   "cell_type": "code",
   "execution_count": null,
   "metadata": {},
   "outputs": [],
   "source": [
    "# Your implementation goes here\n",
    "\n",
    "def search(self, x):\n",
    "    def __search(node, x):\n",
    "        if x == node.getVal():\n",
    "            return True\n",
    "        if x > node.getVal():\n",
    "            return __search(node.getRight(), x)\n",
    "        if x < node.getVal():\n",
    "            return __search(node.getLeft(), x)\n",
    "        else:\n",
    "            return False\n",
    "    return __search(self.root, x)\n"
   ]
  },
  {
   "cell_type": "code",
   "execution_count": null,
   "metadata": {},
   "outputs": [],
   "source": [
    "# Test your implementation here\n",
    "    "
   ]
  },
  {
   "attachments": {},
   "cell_type": "markdown",
   "metadata": {},
   "source": [
    "### Optional Exercise: \n",
    "Extend the previous implementation to support **delete(x)**, **min()**, **max()**, **predecessor(x)** and **successor(x)** operations and test your implementation."
   ]
  },
  {
   "attachments": {},
   "cell_type": "markdown",
   "metadata": {},
   "source": [
    "### Delete\n",
    "\n",
    "![alt text](Delete.png \"Example\")\n",
    "\n",
    "(this image is from GeeksforGeeks.org)"
   ]
  },
  {
   "cell_type": "code",
   "execution_count": null,
   "metadata": {},
   "outputs": [],
   "source": []
  }
 ],
 "metadata": {
  "kernelspec": {
   "display_name": "Python 3 (ipykernel)",
   "language": "python",
   "name": "python3"
  },
  "language_info": {
   "codemirror_mode": {
    "name": "ipython",
    "version": 3
   },
   "file_extension": ".py",
   "mimetype": "text/x-python",
   "name": "python",
   "nbconvert_exporter": "python",
   "pygments_lexer": "ipython3",
   "version": "3.9.12"
  }
 },
 "nbformat": 4,
 "nbformat_minor": 4
}
