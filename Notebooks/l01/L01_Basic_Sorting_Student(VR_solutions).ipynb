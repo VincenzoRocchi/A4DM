{
 "cells": [
  {
   "attachments": {},
   "cell_type": "markdown",
   "metadata": {},
   "source": [
    "## Basic sorting algorithms\n",
    "----"
   ]
  },
  {
   "attachments": {},
   "cell_type": "markdown",
   "metadata": {},
   "source": [
    "### Exercise: Selection Sort\n",
    "Write the function ```SelectionSort(coll)``` that returns a sorted list with the elements in *coll*. \n",
    "You have to implements Selection Sort algorithm."
   ]
  },
  {
   "cell_type": "code",
   "execution_count": 1,
   "metadata": {},
   "outputs": [],
   "source": [
    "#my_list #random generated #range(1 to\n",
    "# 100) \\ len = 10\n",
    "from random import randint, seed"
   ]
  },
  {
   "cell_type": "code",
   "execution_count": 2,
   "metadata": {},
   "outputs": [],
   "source": [
    "## Your implementation here!!!\n",
    "\n",
    "def SelectionSort(A):\n",
    "    for i in range(len(A)):\n",
    "        min_pos = i\n",
    "        for j in range(i+1, len(A)):\n",
    "            if A[j] < A[min_pos]:\n",
    "                min_pos = j\n",
    "        A[i], A[min_pos] = A[min_pos], A[i]\n",
    "    return A"
   ]
  },
  {
   "cell_type": "code",
   "execution_count": 3,
   "metadata": {},
   "outputs": [
    {
     "name": "stdout",
     "output_type": "stream",
     "text": [
      "original one: [53, 42, 24, 7, 14, 8, 46, 71, 71, 58]\n",
      "algo one: [7, 8, 14, 24, 42, 46, 53, 58, 71, 71]\n"
     ]
    }
   ],
   "source": [
    "## Check correctdness your implementation!\n",
    "\n",
    "#--------------\n",
    "my_list= []\n",
    "for _ in range(10):\n",
    "    my_list.append(randint(1,100))    \n",
    "#--------------\n",
    "\n",
    "def test_sortedness(my_list):\n",
    "    return my_list == sorted(my_list)\n",
    "\n",
    "print(\"original one:\", my_list)\n",
    "print(\"algo one:\", SelectionSort(my_list))\n",
    "\n",
    "assert test_sortedness( SelectionSort(my_list) ), \"Must be increasing!\""
   ]
  },
  {
   "cell_type": "code",
   "execution_count": 4,
   "metadata": {},
   "outputs": [],
   "source": [
    "## Your implementation here!!!\n",
    "\n",
    "def InsertionSort(A):\n",
    "    \n",
    "    for actual_pos in range(1, len(A)):\n",
    "        key = A[actual_pos]\n",
    "        prec_pos = actual_pos-1\n",
    "        \n",
    "        while prec_pos >= 0 and key < A[prec_pos]:\n",
    "            A[prec_pos+1] = A[prec_pos]\n",
    "            prec_pos -= 1\n",
    "        A[prec_pos+1] = key\n",
    "    return A"
   ]
  },
  {
   "cell_type": "code",
   "execution_count": 7,
   "metadata": {},
   "outputs": [
    {
     "name": "stdout",
     "output_type": "stream",
     "text": [
      "original one: [56, 9, 41, 3, 16, 18, 89, 71, 9, 84]\n",
      "algo one: [3, 9, 9, 16, 18, 41, 56, 71, 84, 89]\n"
     ]
    }
   ],
   "source": [
    "## Check correctdness your implementation!\n",
    "\n",
    "#--------------\n",
    "my_list= []\n",
    "for _ in range(10):\n",
    "    my_list.append(randint(1,100))    \n",
    "#--------------\n",
    "\n",
    "print(\"original one: {}\".format(my_list))\n",
    "print(\"algo one: {}\".format(InsertionSort(my_list)))\n",
    "\n",
    "assert test_sortedness( InsertionSort(my_list) ), \"Must be increasing!\""
   ]
  },
  {
   "attachments": {},
   "cell_type": "markdown",
   "metadata": {},
   "source": [
    "### Comparators\n",
    "\n",
    "You have learned that many sorting are based on comparison. \n",
    "They obtain a ordered sequence by comparing elements. \n",
    "\n",
    "It's often very useful to define our own way to compare elements. Any comparator that implies a total order \n",
    "is a good one. \n",
    "\n",
    "For example, assume you have a list of tuple. Each tuple stores information about a person. \n",
    "If you sort this list, the final ordering is *\"lexicographic\"* one. First we compare the first component, \n",
    "then the second component for tuples with the same first component, and so on.\n",
    " \n",
    "However, you may want impose your own way to order. For example, sort person by name, then increasingly by age, and so on. \n",
    "\n",
    "This is possible by implementing your own comparator and let ```.sort()``` and ```sorted()``` to use it."
   ]
  },
  {
   "attachments": {},
   "cell_type": "markdown",
   "metadata": {},
   "source": [
    "### How? \n",
    "You know that comparison-based algorithms sort a sequence by comparing pairs of elements. \n",
    "Thus, a comparator is a function that takes two elements, say a and b, and compare them.\n",
    "\n",
    "The result of a comparison is a value smaller than $0$, if a must precede b in the ordering. \n",
    "The result is larger than $0$, if b must precede a. The result is $0$, if we do not care."
   ]
  },
  {
   "attachments": {},
   "cell_type": "markdown",
   "metadata": {},
   "source": [
    "For example, we can use the following comparator to sort numbers in reverse order."
   ]
  },
  {
   "cell_type": "code",
   "execution_count": 8,
   "metadata": {},
   "outputs": [],
   "source": [
    "def my_cmp(a, b):\n",
    "    if a > b: return -1\n",
    "    return 1"
   ]
  },
  {
   "cell_type": "code",
   "execution_count": 9,
   "metadata": {},
   "outputs": [],
   "source": [
    "# shorter version\n",
    "def my_cmp(a, b): \n",
    "    return b-a # a is before if larger that b"
   ]
  },
  {
   "attachments": {},
   "cell_type": "markdown",
   "metadata": {},
   "source": [
    "To use our own comparator with ```.sort()``` and ```sorted()```, we have to use ```functools.cmp_to_key(cmp)```function. This converts our comparator to a function that can be used as a argument for parameter ```key```. \n"
   ]
  },
  {
   "cell_type": "code",
   "execution_count": 10,
   "metadata": {},
   "outputs": [
    {
     "name": "stdout",
     "output_type": "stream",
     "text": [
      "[9, 8, 7, 6, 5, 4, 3, 2, 1, 0]\n"
     ]
    }
   ],
   "source": [
    "import functools\n",
    "\n",
    "print( sorted(list(range(10)), key=functools.cmp_to_key(my_cmp)) )"
   ]
  },
  {
   "attachments": {},
   "cell_type": "markdown",
   "metadata": {},
   "source": [
    "\n",
    "------\n",
    "### Exercise: Strange orderings\n",
    "Given a list, write and test comparators to obtain the following orderings:\n",
    "- Even number precede odd ones. Even numbers are sorted in increasing  order while odd ones are sorted in decreasing order.\n",
    "- Strings are sorted in non-increasing order based on their lengths. Strings having the same length are sorted in non-increasing lexicographic order. "
   ]
  },
  {
   "cell_type": "code",
   "execution_count": 11,
   "metadata": {},
   "outputs": [],
   "source": [
    "my_list = list(range(10))\n",
    "my_list2 = [\"a\", \"b\", \"aba\", \"cad\", \"zzzz\", \"aaaa\"]"
   ]
  },
  {
   "cell_type": "code",
   "execution_count": 12,
   "metadata": {},
   "outputs": [
    {
     "name": "stdout",
     "output_type": "stream",
     "text": [
      "[0, 2, 4, 6, 8, 9, 7, 5, 3, 1]\n",
      "['zzzz', 'aaaa', 'cad', 'aba', 'b', 'a']\n"
     ]
    }
   ],
   "source": [
    "## Your implementation here!!!\n",
    "\n",
    "#1 even number precedd odd ones\n",
    "#1----------\n",
    "def IsItEven(num):\n",
    "    return num %2 == 0 \n",
    "\n",
    "def my_cmp_numbers(a, b):\n",
    "    if b %2 == 0: return 1\n",
    "    return -1\n",
    "\n",
    "print(sorted(my_list, key=functools.cmp_to_key(my_cmp_numbers)))\n",
    "#1----------\n",
    "\n",
    "#2strings are sorted\n",
    "#2----------\n",
    "def my_cmp_strings(a, b):\n",
    "    if len(a) < len(b): \n",
    "        return 1\n",
    "    if len(a) == len(b):\n",
    "        if str(a) < str(b):\n",
    "            return 1\n",
    "    return -1\n",
    "    \n",
    "print(sorted(my_list2, key=functools.cmp_to_key(my_cmp_strings)))\n",
    "#2----------"
   ]
  },
  {
   "attachments": {},
   "cell_type": "markdown",
   "metadata": {},
   "source": [
    "### Exercise: Insertion Sort with a comparator\n",
    "Write the function ```InsertionSort(coll, cmp)``` that returns a sorted list with the elements in *coll* using \n",
    "```cmp```as a comparator."
   ]
  },
  {
   "cell_type": "code",
   "execution_count": 18,
   "metadata": {},
   "outputs": [],
   "source": [
    "## Your implementation here!!!\n",
    "\n",
    "def cmp(a,b):\n",
    "    if a < b:\n",
    "        return -1\n",
    "    if a > b:\n",
    "        return 1\n",
    "    if a == b:\n",
    "        return 0\n",
    "\n",
    "def InsertionSortComp(coll, cmp):\n",
    "    \n",
    "    for actual_pos in range(1, len(coll)):\n",
    "        key = coll[actual_pos]\n",
    "        prec_pos = actual_pos-1\n",
    "        \n",
    "        while prec_pos <= 0 and cmp(key, coll[prec_pos]) < 0 :\n",
    "            coll[prec_pos+1] = coll[prec_pos]\n",
    "            prec_pos -= 1\n",
    "        coll[prec_pos+1] = coll[prec_pos]\n",
    "    return coll"
   ]
  },
  {
   "cell_type": "code",
   "execution_count": 19,
   "metadata": {},
   "outputs": [],
   "source": [
    "## Test here your implementation by using comparators from previous exercise.\n",
    "\n",
    "def test_sortedness(my_list, cmp):\n",
    "    return InsertionSortComp(my_list, cmp) == sorted(my_list, key = functools.cmp_to_key(cmp))\n",
    "\n",
    "assert test_sortedness(my_list, cmp), \"Must be sorted\"\n",
    "assert test_sortedness(my_list2, cmp), \"Must be sorted\""
   ]
  },
  {
   "attachments": {},
   "cell_type": "markdown",
   "metadata": {},
   "source": [
    "-----\n",
    "\n",
    "### Exercise: Intersection of two lists\n",
    "Write a function ```intersection_slow(l1, l2)``` which returns the intersection of the two lists l1 and l2.\n",
    "\n",
    "Use the trivial algorithms that runs in $\\Theta(|l1|\\times|l2|)$. "
   ]
  },
  {
   "cell_type": "code",
   "execution_count": 107,
   "metadata": {},
   "outputs": [],
   "source": [
    "## Your implementation here!!!\n",
    "\n",
    "def intersection_slow(l1,l2):\n",
    "    l3 = []\n",
    "    for i in range(len(l1)):\n",
    "        for j in range(len(l2)):\n",
    "            if l1[i] == l2[j]:\n",
    "                if l2[j] not in l3:\n",
    "                    l3.append(l1[i])\n",
    "                else:\n",
    "                    break\n",
    "    return l3"
   ]
  },
  {
   "cell_type": "code",
   "execution_count": 90,
   "metadata": {},
   "outputs": [
    {
     "name": "stdout",
     "output_type": "stream",
     "text": [
      "[1, 2, 2]\n"
     ]
    }
   ],
   "source": [
    "## Test here your implementation \n",
    "\n",
    "l1 = [3, 5, 1, 2]\n",
    "l2 = [1, 4, 6, 2]\n",
    "\n",
    "print(intersection_slow(l1,l2))\n",
    "\n",
    "assert set(intersection_slow(l1, l2)) == set([1, 2]), \"Urca\""
   ]
  },
  {
   "attachments": {},
   "cell_type": "markdown",
   "metadata": {},
   "source": [
    "----\n",
    "### Exercise: Faster intersection of two lists\n",
    "Write a function ```intersection(l1, l2)``` which returns the intersection of the two lists l1 and l2.\n",
    "\n",
    "Assume that both l1 and l2 are sorted!"
   ]
  },
  {
   "cell_type": "code",
   "execution_count": 113,
   "metadata": {},
   "outputs": [],
   "source": [
    "## Your implementation here!!!\n",
    "\n",
    "def intersection_fast(l1,l2):\n",
    "    l1 = sorted(l1)\n",
    "    l2 = sorted(l2)\n",
    "    l3 = list()\n",
    "    \n",
    "    i = 0\n",
    "    j = 0\n",
    "    \n",
    "    while i < len(l1) and j < len(l2):\n",
    "        if l1[i] == l2[j]:\n",
    "            l3.append(l1[i])\n",
    "            i+= 1\n",
    "            j+=1\n",
    "            \n",
    "        elif l1[i] < l2[j]:\n",
    "            i+=1\n",
    "            \n",
    "        else:\n",
    "            j+=1\n",
    "        \n",
    "    return l3"
   ]
  },
  {
   "cell_type": "code",
   "execution_count": 114,
   "metadata": {},
   "outputs": [
    {
     "name": "stdout",
     "output_type": "stream",
     "text": [
      "[1, 2]\n"
     ]
    }
   ],
   "source": [
    "## Test here your implementation \n",
    "\n",
    "l1 = sorted([3, 5, 1, 2])\n",
    "l2 = sorted([1, 4, 6, 2])\n",
    "\n",
    "print(intersection_fast(l1,l2))\n",
    "assert set(intersection_fast(l1, l2)) == set([1, 2]), \"Urca\""
   ]
  },
  {
   "attachments": {},
   "cell_type": "markdown",
   "metadata": {},
   "source": [
    "----\n",
    "### Exercise: You own search engine\n",
    "You are given a collection of texts and you want to build your own search engine, people at Google are already very scared!\n",
    "\n",
    "Modern search engines are based on a data structure called *Inverted Index*. \n",
    "\n",
    "Each document of the collection is assigned an identifier, starting from 0.\n",
    "An inverted index stores a list, called *inverted list*, for each term of the collection.\n",
    "The list for a term *t* contains the identifiers of all the documents containing term *t*. The list is sorted.\n",
    "\n",
    "For example,\n",
    "\n",
    "````\n",
    "C = [\"dog cat elephant monkey\",  \"dog lion tiger\", \"fish dog dog cat cow\"]\n",
    "\n",
    "````\n",
    "\n",
    "The list of term *cat* is [0,2], the list of *elephant* is [0].\n",
    "\n",
    "Given two terms, an AND query reports all the documents containing both terms. For example, \n",
    "*query(\"cat\", \"dog\"), the result is [0, 2].\n",
    "\n",
    "You goal is to implement a simple search engine. Do the following. \n",
    "\n",
    "- Given the collection, build a dictionary that maps each term to its inverted list. Observe that \n",
    "each document occurs at most once in each list. \n",
    "- Implement a function *query* which answers an AND query. "
   ]
  },
  {
   "cell_type": "code",
   "execution_count": 115,
   "metadata": {},
   "outputs": [],
   "source": [
    "## Your implementation here!!!\n",
    "\n",
    "def build_index(C):\n",
    "    index = {}\n",
    "\n",
    "    for doc_id, doc in enumerate(C):\n",
    "        terms = doc.split()\n",
    "        for term in terms:\n",
    "            if term in index:\n",
    "                index[term].append(doc_id)\n",
    "            else:\n",
    "                index[term] = [doc_id]\n",
    "                \n",
    "    return index\n",
    "\n",
    "def query(index, t1, t2):\n",
    "    l1 = index[t1]\n",
    "    l2 = index[t2]\n",
    "    return intersection_fast(l1,l2)"
   ]
  },
  {
   "cell_type": "code",
   "execution_count": 116,
   "metadata": {},
   "outputs": [],
   "source": [
    "## Test here your implementation \n",
    "\n",
    "C = [\"dog cat elephant monkey\",  \"dog lion tiger\", \"fish dog dog cat cow\"]\n",
    "\n",
    "index = build_index(C)\n",
    "assert query(index, \"cat\", \"dog\") == [0, 2], \"Urca\""
   ]
  }
 ],
 "metadata": {
  "kernelspec": {
   "display_name": "Python 3 (ipykernel)",
   "language": "python",
   "name": "python3"
  },
  "language_info": {
   "codemirror_mode": {
    "name": "ipython",
    "version": 3
   },
   "file_extension": ".py",
   "mimetype": "text/x-python",
   "name": "python",
   "nbconvert_exporter": "python",
   "pygments_lexer": "ipython3",
   "version": "3.9.12"
  }
 },
 "nbformat": 4,
 "nbformat_minor": 2
}
