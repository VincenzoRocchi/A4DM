{
 "cells": [
  {
   "cell_type": "markdown",
   "metadata": {},
   "source": [
    "## Imports"
   ]
  },
  {
   "cell_type": "code",
   "execution_count": 1,
   "metadata": {},
   "outputs": [],
   "source": [
    "from functions import *\n",
    "A = new_array()"
   ]
  },
  {
   "cell_type": "markdown",
   "metadata": {},
   "source": [
    "# Medians and Order Statistics"
   ]
  },
  {
   "cell_type": "markdown",
   "metadata": {},
   "source": [
    "## ith order element\n",
    "\n",
    "- A set A of n (distinct) numbers and an integer i, with 1 <= i <= n.\n",
    "\n",
    "- the ith order element is the element that is exactly larger than i-1 other elements in the array A\n",
    "\n",
    "- the MIN is the i=1 element while the MAX is the i=n element\n",
    "\n",
    "we could sort the problem by taking the ith element in the array after sorting with heapsort or mergesort and they would take theta(n lg n) time to sort but there are faster algorithms around that and we could solve that in n-1 lower bound since we need only n-1 comparison assuming that one element will be the winner of the comparisons"
   ]
  },
  {
   "cell_type": "code",
   "execution_count": 5,
   "metadata": {},
   "outputs": [],
   "source": [
    "def Minimum(A):\n",
    "    \n",
    "    min = A[0]\n",
    "    \n",
    "    for i in range(len(A)):\n",
    "        if min > A[i]:\n",
    "            min = A[i]\n",
    "            \n",
    "    return min"
   ]
  },
  {
   "cell_type": "markdown",
   "metadata": {},
   "source": [
    "## simultaneous minimum and maximum\n",
    "\n",
    "- we can get the min and max both with a running time of 2n-2 comparisons using n-1 comparison for each the min and max\n",
    "\n",
    "- we can get even faster by processing the min and max togheter in pair getting a lower bound time complexity of 3(n/2)."
   ]
  },
  {
   "cell_type": "code",
   "execution_count": null,
   "metadata": {},
   "outputs": [],
   "source": []
  }
 ],
 "metadata": {
  "kernelspec": {
   "display_name": "venv",
   "language": "python",
   "name": "python3"
  },
  "language_info": {
   "codemirror_mode": {
    "name": "ipython",
    "version": 3
   },
   "file_extension": ".py",
   "mimetype": "text/x-python",
   "name": "python",
   "nbconvert_exporter": "python",
   "pygments_lexer": "ipython3",
   "version": "3.12.0"
  }
 },
 "nbformat": 4,
 "nbformat_minor": 2
}
