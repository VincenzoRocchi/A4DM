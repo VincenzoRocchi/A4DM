{
 "cells": [
  {
   "cell_type": "markdown",
   "metadata": {},
   "source": [
    "## Imports"
   ]
  },
  {
   "cell_type": "code",
   "execution_count": 6,
   "metadata": {},
   "outputs": [],
   "source": [
    "from functions import *\n",
    "A = new_array()"
   ]
  },
  {
   "cell_type": "markdown",
   "metadata": {},
   "source": [
    "# Medians and Order Statistics"
   ]
  },
  {
   "cell_type": "markdown",
   "metadata": {},
   "source": [
    "## Ith order element\n",
    "\n",
    "- A set A of n (distinct) numbers and an integer i, with 1 <= i <= n.\n",
    "\n",
    "- the ith order element is the element that is exactly larger than i-1 other elements in the array A\n",
    "\n",
    "- the MIN is the i=1 element while the MAX is the i=n element\n",
    "\n",
    "we could sort the problem by taking the ith element in the array after sorting with heapsort or mergesort and they would take theta(n lg n) time to sort but there are faster algorithms around that and we could solve that in n-1 lower bound since we need only n-1 comparison assuming that one element will be the winner of the comparisons"
   ]
  },
  {
   "cell_type": "code",
   "execution_count": 7,
   "metadata": {},
   "outputs": [
    {
     "name": "stdout",
     "output_type": "stream",
     "text": [
      "[49, 80, 83, 40, 96, 97, 80, 29, 66, 91]\n"
     ]
    },
    {
     "data": {
      "text/plain": [
       "29"
      ]
     },
     "execution_count": 7,
     "metadata": {},
     "output_type": "execute_result"
    }
   ],
   "source": [
    "def Minimum(A):\n",
    "    \n",
    "    min = A[0]\n",
    "    \n",
    "    for i in range(len(A)):\n",
    "        if min > A[i]:\n",
    "            min = A[i]\n",
    "            \n",
    "    return min\n",
    "\n",
    "# example\n",
    "print(A)\n",
    "Minimum(A)"
   ]
  },
  {
   "cell_type": "markdown",
   "metadata": {},
   "source": [
    "## simultaneous minimum and maximum\n",
    "\n",
    "- we can get the min and max both with a running time of 2n-2 comparisons using n-1 comparison for each the min and max\n",
    "\n",
    "- we can get even faster by processing the min and max togheter in pair getting a lower bound time complexity of 3(n/2)."
   ]
  },
  {
   "cell_type": "markdown",
   "metadata": {},
   "source": [
    "## QuickSelect \n",
    "- only in the randomized version of partition in the book"
   ]
  },
  {
   "cell_type": "code",
   "execution_count": 153,
   "metadata": {},
   "outputs": [
    {
     "name": "stdout",
     "output_type": "stream",
     "text": [
      "The 2-th smallest element is: 2\n"
     ]
    }
   ],
   "source": [
    "def Partition(A,p,r):\n",
    "    pivot = r\n",
    "    i = p-1\n",
    "    for j in range(p, r):\n",
    "        if A[j] <= A[pivot]:\n",
    "            i += 1\n",
    "            swap_ind(A, i , j)\n",
    "            \n",
    "    swap_ind(A, i+1, r) \n",
    "    return i+1\n",
    "\n",
    "def RandomizedPartition(A,p,r):\n",
    "    pivot = random.randint(p,r)\n",
    "    swap_ind(A, pivot, r)\n",
    "    return Partition(A,p,r)\n",
    "    \n",
    "def QuickSelect(A,p,r,i):\n",
    "    if p < r: \n",
    "        q = RandomizedPartition(A,p,r)\n",
    "        k = q-p +1 # number of elements in the left subarray +1 to check wheter the ith element is in the lefto or right subarray\n",
    "        if i == k:\n",
    "            return A[q]\n",
    "        elif i < k:\n",
    "            return QuickSelect(A,p,q-1,i)\n",
    "        else:\n",
    "            return QuickSelect(A,q+1,r,i-k)\n",
    "        \n",
    "    return A[p]\n",
    " \n",
    "arr = [3, 7, 1, 4, 2, 6, 5]\n",
    "k = 2\n",
    "result = QuickSelect(arr, 0, len(arr) - 1, k)\n",
    "print(f\"The {k}-th smallest element is: {result}\")"
   ]
  },
  {
   "cell_type": "code",
   "execution_count": null,
   "metadata": {},
   "outputs": [],
   "source": []
  }
 ],
 "metadata": {
  "kernelspec": {
   "display_name": "venv",
   "language": "python",
   "name": "python3"
  },
  "language_info": {
   "codemirror_mode": {
    "name": "ipython",
    "version": 3
   },
   "file_extension": ".py",
   "mimetype": "text/x-python",
   "name": "python",
   "nbconvert_exporter": "python",
   "pygments_lexer": "ipython3",
   "version": "3.12.0"
  }
 },
 "nbformat": 4,
 "nbformat_minor": 2
}
