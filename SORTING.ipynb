{
 "cells": [
  {
   "cell_type": "markdown",
   "metadata": {},
   "source": [
    "## Imports"
   ]
  },
  {
   "cell_type": "code",
   "execution_count": 7,
   "metadata": {},
   "outputs": [],
   "source": [
    "from functions import *\n",
    "A = new_array()"
   ]
  },
  {
   "cell_type": "markdown",
   "metadata": {},
   "source": [
    "# SORTING - comparison sort"
   ]
  },
  {
   "cell_type": "markdown",
   "metadata": {},
   "source": [
    "## IsertionSort"
   ]
  },
  {
   "cell_type": "code",
   "execution_count": 16,
   "metadata": {},
   "outputs": [
    {
     "name": "stdout",
     "output_type": "stream",
     "text": [
      "[11, 14, 15, 50, 51, 57, 71, 72, 76, 100]\n",
      "CPU times: user 79 µs, sys: 5 µs, total: 84 µs\n",
      "Wall time: 85.8 µs\n"
     ]
    }
   ],
   "source": [
    "%%time\n",
    "#insertion sort\n",
    "def InsertionSort(A):\n",
    "    \n",
    "    for j in range(1, len(A)):\n",
    "        key = A[j]\n",
    "        i = j-1\n",
    "        while i >= 0 and A[i] > key:\n",
    "            A[i+1] = A[i]\n",
    "            i -= 1\n",
    "        A[i+1] = key   \n",
    "    return A\n",
    "\n",
    "A = new_array()\n",
    "print(InsertionSort(A))"
   ]
  },
  {
   "cell_type": "markdown",
   "metadata": {},
   "source": [
    "## SelectionSort"
   ]
  },
  {
   "cell_type": "code",
   "execution_count": 30,
   "metadata": {},
   "outputs": [
    {
     "name": "stdout",
     "output_type": "stream",
     "text": [
      "[5, 9, 10, 15, 23, 39, 59, 60, 68, 84]\n",
      "CPU times: user 219 µs, sys: 168 µs, total: 387 µs\n",
      "Wall time: 348 µs\n"
     ]
    }
   ],
   "source": [
    "%%time\n",
    "#selection sort\n",
    "def SelectionSort(A):\n",
    "    \n",
    "    for i in range(len(A)):\n",
    "        min_elem_index = i\n",
    "        \n",
    "        for j in range(i + 1 ,len(A)):\n",
    "            if A[j] < A[min_elem_index]:\n",
    "                min_elem_index = j\n",
    "        A[i], A[min_elem_index] = A[min_elem_index],A[i]\n",
    "        \n",
    "    return A\n",
    "\n",
    "A = new_array()\n",
    "print(SelectionSort(A))"
   ]
  },
  {
   "cell_type": "markdown",
   "metadata": {},
   "source": [
    "## MergeSort"
   ]
  },
  {
   "cell_type": "code",
   "execution_count": 13,
   "metadata": {},
   "outputs": [
    {
     "name": "stdout",
     "output_type": "stream",
     "text": [
      "[2, 22, 26, 31, 45, 63, 81, 89, 93, 100]\n",
      "CPU times: user 211 µs, sys: 148 µs, total: 359 µs\n",
      "Wall time: 243 µs\n"
     ]
    }
   ],
   "source": [
    "%%time\n",
    "#MergeSort\n",
    "def Merge(A,p,q,r):\n",
    "    \n",
    "    L = A[p:q]\n",
    "    R = A[q:r]\n",
    "    \n",
    "    i = j = 0\n",
    "    k = p\n",
    "    \n",
    "    while i < len(L) and j < len(R):\n",
    "        if L[i] < R[j]:\n",
    "            A[k] = L[i]\n",
    "            i += 1\n",
    "        else:\n",
    "            A[k] = R[j]\n",
    "            j += 1\n",
    "        k += 1\n",
    "    \n",
    "    while i < len(L):\n",
    "        A[k] = L[i]\n",
    "        i += 1\n",
    "        k += 1\n",
    "\n",
    "    while j < len(R):\n",
    "        A[k] = R[j]\n",
    "        j += 1\n",
    "        k += 1\n",
    "        \n",
    "def MergeSort(A,p,r):\n",
    "    \n",
    "    if p < r -1:\n",
    "        q = (p+r)//2\n",
    "        MergeSort(A,p,q)\n",
    "        MergeSort(A,q,r)\n",
    "        Merge(A,p,q,r)\n",
    "        \n",
    "    return A\n",
    "\n",
    "A = new_array()\n",
    "print(MergeSort(A,0,len(A)))"
   ]
  },
  {
   "cell_type": "markdown",
   "metadata": {},
   "source": [
    "## BubbleSort"
   ]
  },
  {
   "cell_type": "code",
   "execution_count": 14,
   "metadata": {},
   "outputs": [
    {
     "name": "stdout",
     "output_type": "stream",
     "text": [
      "[1, 14, 17, 23, 23, 24, 28, 45, 67, 95]\n",
      "CPU times: user 87 µs, sys: 8 µs, total: 95 µs\n",
      "Wall time: 91.8 µs\n"
     ]
    }
   ],
   "source": [
    "%%time\n",
    "#BubbleSort\n",
    "def BubbleSort(A):\n",
    "    \n",
    "    for i in range(len(A)):\n",
    "        for j in range(len(A)-1, i-1, -1):\n",
    "            if A[j]< A[j-1]:\n",
    "                A[j],A[j-1] = A[j-1],A[j]\n",
    "    return A\n",
    "\n",
    "A = new_array()\n",
    "print(BubbleSort(A))"
   ]
  },
  {
   "cell_type": "markdown",
   "metadata": {},
   "source": [
    "## QuickSort"
   ]
  },
  {
   "cell_type": "code",
   "execution_count": 15,
   "metadata": {},
   "outputs": [
    {
     "name": "stdout",
     "output_type": "stream",
     "text": [
      "[25, 31, 51, 40, 59, 64, 79, 85, 94, 95]\n",
      "CPU times: user 350 µs, sys: 148 µs, total: 498 µs\n",
      "Wall time: 541 µs\n"
     ]
    }
   ],
   "source": [
    "%%time\n",
    "#QuickSort\n",
    "\n",
    "def Partition(A, p ,r):\n",
    "    \n",
    "    pivot = r\n",
    "    i = p-1\n",
    "\n",
    "    for j in range(p,r):\n",
    "        if A[j] <= A[pivot]:\n",
    "            i = i + 1\n",
    "            swap_ind(A, i, j)\n",
    "    swap_ind(A, i+1 , r)\n",
    "    return i+1\n",
    "\n",
    "def QuickSort(A,p,r):\n",
    "        \n",
    "    # if there are no distinct elements in the dataset too assure that the partition algo works correctly\n",
    "    # should implement the partition to be always set as the midle element of the array\n",
    "    \n",
    "    if all(x == A[p] for x in A[p+1: r]) and p <= r:\n",
    "        q = (p+r)//2\n",
    "        QuickSort(A, p, q -1)\n",
    "        QuickSort(A, q+1, r)\n",
    "        \n",
    "    elif p <= r:\n",
    "        q = Partition(A,p,r)\n",
    "        QuickSort(A, p, q -1)\n",
    "        QuickSort(A, q+1, r)\n",
    "\n",
    "\n",
    "A = new_array()\n",
    "QuickSort(A, 0, len(A)-1)\n",
    "print(A)"
   ]
  }
 ],
 "metadata": {
  "kernelspec": {
   "display_name": "DSBI",
   "language": "python",
   "name": "python3"
  },
  "language_info": {
   "codemirror_mode": {
    "name": "ipython",
    "version": 3
   },
   "file_extension": ".py",
   "mimetype": "text/x-python",
   "name": "python",
   "nbconvert_exporter": "python",
   "pygments_lexer": "ipython3",
   "version": "3.12.0"
  }
 },
 "nbformat": 4,
 "nbformat_minor": 2
}
