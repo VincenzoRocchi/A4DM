{
 "cells": [
  {
   "cell_type": "markdown",
   "metadata": {},
   "source": [
    "## Imports"
   ]
  },
  {
   "cell_type": "code",
   "execution_count": 16,
   "metadata": {},
   "outputs": [],
   "source": [
    "from functions import *\n",
    "A = new_array()"
   ]
  },
  {
   "cell_type": "markdown",
   "metadata": {},
   "source": [
    "# SORTING - comparison"
   ]
  },
  {
   "cell_type": "markdown",
   "metadata": {},
   "source": [
    "## IsertionSort"
   ]
  },
  {
   "cell_type": "code",
   "execution_count": 17,
   "metadata": {},
   "outputs": [
    {
     "name": "stdout",
     "output_type": "stream",
     "text": [
      "[5, 6, 6, 33, 37, 58, 59, 64, 68, 71]\n",
      "CPU times: total: 0 ns\n",
      "Wall time: 0 ns\n"
     ]
    }
   ],
   "source": [
    "%%time\n",
    "#insertion sort\n",
    "def InsertionSort(A):\n",
    "    \n",
    "    for j in range(1, len(A)):\n",
    "        key = A[j]\n",
    "        i = j-1\n",
    "        while i >= 0 and A[i] > key:\n",
    "            A[i+1] = A[i]\n",
    "            i -= 1\n",
    "        A[i+1] = key   \n",
    "    return A\n",
    "\n",
    "#example\n",
    "A = new_array()\n",
    "print(InsertionSort(A))"
   ]
  },
  {
   "cell_type": "markdown",
   "metadata": {},
   "source": [
    "## SelectionSort"
   ]
  },
  {
   "cell_type": "code",
   "execution_count": 18,
   "metadata": {},
   "outputs": [
    {
     "name": "stdout",
     "output_type": "stream",
     "text": [
      "[6, 22, 32, 37, 40, 41, 58, 83, 95, 100]\n",
      "CPU times: total: 0 ns\n",
      "Wall time: 1e+03 µs\n"
     ]
    }
   ],
   "source": [
    "%%time\n",
    "#selection sort\n",
    "def SelectionSort(A):\n",
    "    \n",
    "    for i in range(len(A)):\n",
    "        min_elem_index = i\n",
    "        \n",
    "        for j in range(i + 1 ,len(A)):\n",
    "            if A[j] < A[min_elem_index]:\n",
    "                min_elem_index = j\n",
    "        A[i], A[min_elem_index] = A[min_elem_index],A[i]\n",
    "        \n",
    "    return A\n",
    "\n",
    "#example\n",
    "A = new_array()\n",
    "print(SelectionSort(A))"
   ]
  },
  {
   "cell_type": "markdown",
   "metadata": {},
   "source": [
    "## MergeSort"
   ]
  },
  {
   "cell_type": "code",
   "execution_count": 19,
   "metadata": {},
   "outputs": [
    {
     "name": "stdout",
     "output_type": "stream",
     "text": [
      "[2, 14, 29, 35, 42, 48, 48, 53, 73, 97]\n",
      "CPU times: total: 0 ns\n",
      "Wall time: 0 ns\n"
     ]
    }
   ],
   "source": [
    "%%time\n",
    "#MergeSort\n",
    "def Merge(A,p,q,r):\n",
    "    \n",
    "    L = A[p:q]\n",
    "    R = A[q:r]\n",
    "    \n",
    "    i = j = 0\n",
    "    k = p\n",
    "    \n",
    "    while i < len(L) and j < len(R):\n",
    "        if L[i] < R[j]:\n",
    "            A[k] = L[i]\n",
    "            i += 1\n",
    "        else:\n",
    "            A[k] = R[j]\n",
    "            j += 1\n",
    "        k += 1\n",
    "    \n",
    "    while i < len(L):\n",
    "        A[k] = L[i]\n",
    "        i += 1\n",
    "        k += 1\n",
    "\n",
    "    while j < len(R):\n",
    "        A[k] = R[j]\n",
    "        j += 1\n",
    "        k += 1\n",
    "        \n",
    "def MergeSort(A,p,r):\n",
    "    \n",
    "    if p < r -1:\n",
    "        q = (p+r)//2\n",
    "        MergeSort(A,p,q)\n",
    "        MergeSort(A,q,r)\n",
    "        Merge(A,p,q,r)\n",
    "        \n",
    "    return A\n",
    "\n",
    "#example\n",
    "A = new_array()\n",
    "print(MergeSort(A,0,len(A)))"
   ]
  },
  {
   "cell_type": "markdown",
   "metadata": {},
   "source": [
    "## BubbleSort"
   ]
  },
  {
   "cell_type": "code",
   "execution_count": 20,
   "metadata": {},
   "outputs": [
    {
     "name": "stdout",
     "output_type": "stream",
     "text": [
      "[5, 15, 27, 44, 48, 49, 62, 64, 75, 79]\n",
      "CPU times: total: 0 ns\n",
      "Wall time: 0 ns\n"
     ]
    }
   ],
   "source": [
    "%%time\n",
    "#BubbleSort\n",
    "def BubbleSort(A):\n",
    "    \n",
    "    for i in range(len(A)):\n",
    "        for j in range(len(A)-1, i-1, -1):\n",
    "            if A[j]< A[j-1]:\n",
    "                A[j],A[j-1] = A[j-1],A[j]\n",
    "    return A\n",
    "\n",
    "#example\n",
    "A = new_array()\n",
    "print(BubbleSort(A))"
   ]
  },
  {
   "cell_type": "markdown",
   "metadata": {},
   "source": [
    "## QuickSort"
   ]
  },
  {
   "cell_type": "code",
   "execution_count": 35,
   "metadata": {},
   "outputs": [
    {
     "name": "stdout",
     "output_type": "stream",
     "text": [
      "[3, 37, 26, 41, 42, 69, 70, 71, 72, 74]\n",
      "CPU times: total: 0 ns\n",
      "Wall time: 0 ns\n"
     ]
    }
   ],
   "source": [
    "%%time\n",
    "#QuickSort\n",
    "\n",
    "def Partition(A, p ,r):\n",
    "    \n",
    "    pivot = r\n",
    "    i = p-1\n",
    "\n",
    "    for j in range(p,r):\n",
    "        if A[j] <= A[pivot]:\n",
    "            i = i + 1\n",
    "            swap_ind(A, i, j)\n",
    "    swap_ind(A, i+1 , r)\n",
    "    return i+1\n",
    "\n",
    "def QuickSort(A,p,r):\n",
    "        \n",
    "    # if there are no distinct elements in the dataset too assure that the partition algo works correctly\n",
    "    # should implement the partition to be always set as the midle element of the array\n",
    "    \n",
    "    if all(x == A[p] for x in A[p+1: r]) and p <= r:\n",
    "        q = (p+r)//2\n",
    "        QuickSort(A, p, q -1)\n",
    "        QuickSort(A, q+1, r)\n",
    "        \n",
    "    elif p <= r:\n",
    "        q = Partition(A,p,r)\n",
    "        QuickSort(A, p, q -1)\n",
    "        QuickSort(A, q+1, r)\n",
    "\n",
    "#example\n",
    "A = new_array()\n",
    "QuickSort(A, 0, len(A)-1)\n",
    "print(A)"
   ]
  },
  {
   "cell_type": "markdown",
   "metadata": {},
   "source": [
    "## Random QuickSort"
   ]
  },
  {
   "cell_type": "code",
   "execution_count": 34,
   "metadata": {},
   "outputs": [
    {
     "name": "stdout",
     "output_type": "stream",
     "text": [
      "[31, 33, 39, 48, 50, 57, 61, 88, 88, 90]\n",
      "CPU times: total: 0 ns\n",
      "Wall time: 0 ns\n"
     ]
    }
   ],
   "source": [
    "%%time\n",
    "#random QuickSort\n",
    "\n",
    "def random_Partition(A,p,r):\n",
    "    \n",
    "    pivot = random.randint(p,r)\n",
    "    swap_ind(A, pivot, r)\n",
    "    pivot = r\n",
    "    i = p-1\n",
    "    \n",
    "    for j in range(p,r):\n",
    "        if A[j] <= A[pivot]:\n",
    "            i += 1\n",
    "            swap_ind(A, i, j)       \n",
    "    swap_ind(A,i+1,r)\n",
    "    return i+1\n",
    "\n",
    "# def random_Partition(A,p,r): # if function partition already defined\n",
    "    \n",
    "#     pivot = random.randint(p,r)\n",
    "#     swap_ind(A, pivot, r)\n",
    "#     return Partition(A,p,r) \n",
    "\n",
    "def random_QuickSort(A,p,r):\n",
    "    if p<= r:\n",
    "        q = random_Partition(A,p,r)\n",
    "        random_QuickSort(A, p, q-1)\n",
    "        random_QuickSort(A, q+1, r)\n",
    "\n",
    "#example\n",
    "A = new_array()   \n",
    "random_QuickSort(A, 0, len(A)-1)\n",
    "print(A)"
   ]
  },
  {
   "cell_type": "markdown",
   "metadata": {},
   "source": [
    "# SORTING - != comparison"
   ]
  },
  {
   "cell_type": "code",
   "execution_count": null,
   "metadata": {},
   "outputs": [],
   "source": [
    "#Counting Sort\n",
    "\n",
    "def CountingSort(A):\n",
    "    "
   ]
  }
 ],
 "metadata": {
  "kernelspec": {
   "display_name": "DSBI",
   "language": "python",
   "name": "python3"
  },
  "language_info": {
   "codemirror_mode": {
    "name": "ipython",
    "version": 3
   },
   "file_extension": ".py",
   "mimetype": "text/x-python",
   "name": "python",
   "nbconvert_exporter": "python",
   "pygments_lexer": "ipython3",
   "version": "3.12.0"
  }
 },
 "nbformat": 4,
 "nbformat_minor": 2
}
