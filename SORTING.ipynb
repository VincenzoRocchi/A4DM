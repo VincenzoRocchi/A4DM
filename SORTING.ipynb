{
 "cells": [
  {
   "cell_type": "markdown",
   "metadata": {},
   "source": [
    "## Imports"
   ]
  },
  {
   "cell_type": "code",
   "execution_count": 1,
   "metadata": {},
   "outputs": [],
   "source": [
    "from functions import *\n",
    "A = new_array()"
   ]
  },
  {
   "cell_type": "markdown",
   "metadata": {},
   "source": [
    "# SORTING - comparison"
   ]
  },
  {
   "cell_type": "markdown",
   "metadata": {},
   "source": [
    "## IsertionSort"
   ]
  },
  {
   "cell_type": "code",
   "execution_count": 2,
   "metadata": {},
   "outputs": [
    {
     "name": "stdout",
     "output_type": "stream",
     "text": [
<<<<<<< HEAD
      "[3, 13, 19, 26, 79, 83, 89, 91, 100, 100]\n",
      "CPU times: total: 0 ns\n",
      "Wall time: 0 ns\n"
=======
      "[5, 18, 20, 23, 27, 31, 38, 43, 78, 97]\n",
      "CPU times: user 51 µs, sys: 2 µs, total: 53 µs\n",
      "Wall time: 57.2 µs\n"
>>>>>>> 69e1d96deffb36bdb74f09eaafadb636e5967ad9
     ]
    }
   ],
   "source": [
    "%%time\n",
    "#insertion sort\n",
    "def InsertionSort(A):\n",
    "    \n",
    "    for j in range(1, len(A)):\n",
    "        key = A[j]\n",
    "        i = j-1\n",
    "        while i >= 0 and A[i] > key:\n",
    "            A[i+1] = A[i]\n",
    "            i -= 1\n",
    "        A[i+1] = key   \n",
    "    return A\n",
    "\n",
    "#example\n",
    "A = new_array()\n",
    "print(InsertionSort(A))"
   ]
  },
  {
   "cell_type": "markdown",
   "metadata": {},
   "source": [
    "## SelectionSort"
   ]
  },
  {
   "cell_type": "code",
   "execution_count": 3,
   "metadata": {},
   "outputs": [
    {
     "name": "stdout",
     "output_type": "stream",
     "text": [
<<<<<<< HEAD
      "[10, 12, 13, 53, 62, 69, 83, 90, 98, 100]\n",
      "CPU times: total: 0 ns\n",
      "Wall time: 0 ns\n"
=======
      "[12, 16, 28, 33, 37, 46, 56, 69, 74, 77]\n",
      "CPU times: user 140 µs, sys: 34 µs, total: 174 µs\n",
      "Wall time: 182 µs\n"
>>>>>>> 69e1d96deffb36bdb74f09eaafadb636e5967ad9
     ]
    }
   ],
   "source": [
    "%%time\n",
    "#selection sort\n",
    "def SelectionSort(A):\n",
    "    \n",
    "    for i in range(len(A)):\n",
    "        min_elem_index = i\n",
    "        \n",
    "        for j in range(i + 1 ,len(A)):\n",
    "            if A[j] < A[min_elem_index]:\n",
    "                min_elem_index = j\n",
    "        A[i], A[min_elem_index] = A[min_elem_index],A[i]\n",
    "        \n",
    "    return A\n",
    "\n",
    "#example\n",
    "A = new_array()\n",
    "print(SelectionSort(A))"
   ]
  },
  {
   "cell_type": "markdown",
   "metadata": {},
   "source": [
    "## MergeSort"
   ]
  },
  {
   "cell_type": "code",
   "execution_count": 4,
   "metadata": {},
   "outputs": [
    {
     "name": "stdout",
     "output_type": "stream",
     "text": [
<<<<<<< HEAD
      "[6, 11, 19, 35, 58, 58, 68, 72, 77, 98]\n",
      "CPU times: total: 0 ns\n",
      "Wall time: 0 ns\n"
=======
      "[1, 7, 13, 31, 37, 37, 70, 72, 78, 78]\n",
      "CPU times: user 185 µs, sys: 41 µs, total: 226 µs\n",
      "Wall time: 225 µs\n"
>>>>>>> 69e1d96deffb36bdb74f09eaafadb636e5967ad9
     ]
    }
   ],
   "source": [
    "%%time\n",
    "#MergeSort\n",
    "def Merge(A,p,q,r):\n",
    "    \n",
    "    L = A[p:q]\n",
    "    R = A[q:r]\n",
    "    \n",
    "    i = j = 0\n",
    "    k = p\n",
    "    \n",
    "    while i < len(L) and j < len(R):\n",
    "        if L[i] < R[j]:\n",
    "            A[k] = L[i]\n",
    "            i += 1\n",
    "        else:\n",
    "            A[k] = R[j]\n",
    "            j += 1\n",
    "        k += 1\n",
    "    \n",
    "    while i < len(L):\n",
    "        A[k] = L[i]\n",
    "        i += 1\n",
    "        k += 1\n",
    "\n",
    "    while j < len(R):\n",
    "        A[k] = R[j]\n",
    "        j += 1\n",
    "        k += 1\n",
    "        \n",
    "def MergeSort(A,p,r):\n",
    "    \n",
    "    if p < r -1:\n",
    "        q = (p+r)//2\n",
    "        MergeSort(A,p,q)\n",
    "        MergeSort(A,q,r)\n",
    "        Merge(A,p,q,r)\n",
    "        \n",
    "    return A\n",
    "\n",
    "#example\n",
    "A = new_array()\n",
    "print(MergeSort(A,0,len(A)))"
   ]
  },
  {
   "cell_type": "markdown",
   "metadata": {},
   "source": [
    "## BubbleSort"
   ]
  },
  {
   "cell_type": "code",
   "execution_count": 5,
   "metadata": {},
   "outputs": [
    {
     "name": "stdout",
     "output_type": "stream",
     "text": [
<<<<<<< HEAD
      "[9, 24, 30, 32, 39, 45, 71, 77, 79, 96]\n",
      "CPU times: total: 0 ns\n",
      "Wall time: 0 ns\n"
=======
      "[2, 3, 25, 37, 53, 64, 76, 78, 87, 90]\n",
      "CPU times: user 54 µs, sys: 2 µs, total: 56 µs\n",
      "Wall time: 57.7 µs\n"
>>>>>>> 69e1d96deffb36bdb74f09eaafadb636e5967ad9
     ]
    }
   ],
   "source": [
    "%%time\n",
    "#BubbleSort\n",
    "def BubbleSort(A):\n",
    "    \n",
    "    for i in range(len(A)):\n",
    "        for j in range(len(A)-1, i-1, -1):\n",
    "            if A[j]< A[j-1]:\n",
    "                A[j],A[j-1] = A[j-1],A[j]\n",
    "    return A\n",
    "\n",
    "#example\n",
    "A = new_array()\n",
    "print(BubbleSort(A))"
   ]
  },
  {
   "cell_type": "markdown",
   "metadata": {},
   "source": [
    "## QuickSort"
   ]
  },
  {
   "cell_type": "code",
   "execution_count": 6,
   "metadata": {},
   "outputs": [
    {
     "name": "stdout",
     "output_type": "stream",
     "text": [
<<<<<<< HEAD
      "[8, 15, 10, 29, 45, 54, 61, 81, 93, 86]\n",
      "CPU times: total: 0 ns\n",
      "Wall time: 0 ns\n"
=======
      "[17, 7, 17, 30, 21, 30, 68, 74, 87, 81]\n",
      "CPU times: user 168 µs, sys: 36 µs, total: 204 µs\n",
      "Wall time: 212 µs\n"
>>>>>>> 69e1d96deffb36bdb74f09eaafadb636e5967ad9
     ]
    }
   ],
   "source": [
    "%%time\n",
    "#QuickSort\n",
    "\n",
    "def Partition(A, p ,r):\n",
    "    \n",
    "    pivot = r\n",
    "    i = p-1\n",
    "\n",
    "    for j in range(p,r):\n",
    "        if A[j] <= A[pivot]:\n",
    "            i = i + 1\n",
    "            swap_ind(A, i, j)\n",
    "    swap_ind(A, i+1 , r)\n",
    "    return i+1\n",
    "\n",
    "def QuickSort(A,p,r):\n",
    "        \n",
    "    # if there are no distinct elements in the dataset too assure that the partition algo works correctly\n",
    "    # should implement the partition to be always set as the midle element of the array\n",
    "    \n",
    "    if all(x == A[p] for x in A[p+1: r]) and p <= r:\n",
    "        q = (p+r)//2\n",
    "        QuickSort(A, p, q -1)\n",
    "        QuickSort(A, q+1, r)\n",
    "        \n",
    "    elif p <= r:\n",
    "        q = Partition(A,p,r)\n",
    "        QuickSort(A, p, q -1)\n",
    "        QuickSort(A, q+1, r)\n",
    "\n",
    "#example\n",
    "A = new_array()\n",
    "QuickSort(A, 0, len(A)-1)\n",
    "print(A)"
   ]
  },
  {
   "cell_type": "markdown",
   "metadata": {},
   "source": [
    "## Random QuickSort"
   ]
  },
  {
   "cell_type": "code",
   "execution_count": 7,
   "metadata": {},
   "outputs": [
    {
     "name": "stdout",
     "output_type": "stream",
     "text": [
<<<<<<< HEAD
      "[4, 19, 38, 40, 50, 55, 64, 65, 79, 100]\n",
      "CPU times: total: 0 ns\n",
      "Wall time: 0 ns\n"
=======
      "[10, 14, 20, 28, 35, 50, 64, 71, 81, 87]\n",
      "CPU times: user 66 µs, sys: 5 µs, total: 71 µs\n",
      "Wall time: 69.1 µs\n"
>>>>>>> 69e1d96deffb36bdb74f09eaafadb636e5967ad9
     ]
    }
   ],
   "source": [
    "%%time\n",
    "#random QuickSort\n",
    "\n",
    "def random_Partition(A,p,r):\n",
    "    \n",
    "    pivot = random.randint(p,r)\n",
    "    swap_ind(A, pivot, r)\n",
    "    pivot = r\n",
    "    i = p-1\n",
    "    \n",
    "    for j in range(p,r):\n",
    "        if A[j] <= A[pivot]:\n",
    "            i += 1\n",
    "            swap_ind(A, i, j)       \n",
    "    swap_ind(A,i+1,r)\n",
    "    return i+1\n",
    "\n",
    "# def random_Partition(A,p,r): # if function partition already defined\n",
    "    \n",
    "#     pivot = random.randint(p,r)\n",
    "#     swap_ind(A, pivot, r)\n",
    "#     return Partition(A,p,r) \n",
    "\n",
    "def random_QuickSort(A,p,r):\n",
    "    if p<= r:\n",
    "        q = random_Partition(A,p,r)\n",
    "        random_QuickSort(A, p, q-1)\n",
    "        random_QuickSort(A, q+1, r)\n",
    "\n",
    "#example\n",
    "A = new_array()   \n",
    "random_QuickSort(A, 0, len(A)-1)\n",
    "print(A)"
   ]
  },
  {
   "cell_type": "markdown",
   "metadata": {},
   "source": [
    "# SORTING - != comparison"
   ]
  },
  {
   "cell_type": "markdown",
   "metadata": {},
   "source": [
    "## CountingSort"
   ]
  },
  {
   "cell_type": "code",
   "execution_count": 8,
   "metadata": {},
   "outputs": [
    {
     "name": "stdout",
     "output_type": "stream",
     "text": [
<<<<<<< HEAD
      "[5, 10, 15, 27, 32, 35, 37, 43, 45, 93] [0, 0, 0, 0, 0, 0, 1, 1, 1, 1, 1, 2, 2, 2, 2, 2, 3, 3, 3, 3, 3, 3, 3, 3, 3, 3, 3, 3, 4, 4, 4, 4, 4, 5, 5, 5, 6, 6, 7, 7, 7, 7, 7, 7, 8, 8, 9, 9, 9, 9, 9, 9, 9, 9, 9, 9, 9, 9, 9, 9, 9, 9, 9, 9, 9, 9, 9, 9, 9, 9, 9, 9, 9, 9, 9, 9, 9, 9, 9, 9, 9, 9, 9, 9, 9, 9, 9, 9, 9, 9, 9, 9, 9, 9]\n"
=======
      "[11, 23, 34, 49, 51, 64, 72, 77, 90, 98] [0, 0, 0, 0, 0, 0, 0, 0, 0, 0, 0, 0, 1, 1, 1, 1, 1, 1, 1, 1, 1, 1, 1, 1, 2, 2, 2, 2, 2, 2, 2, 2, 2, 2, 2, 3, 3, 3, 3, 3, 3, 3, 3, 3, 3, 3, 3, 3, 3, 3, 4, 4, 5, 5, 5, 5, 5, 5, 5, 5, 5, 5, 5, 5, 5, 6, 6, 6, 6, 6, 6, 6, 6, 7, 7, 7, 7, 7, 8, 8, 8, 8, 8, 8, 8, 8, 8, 8, 8, 8, 8, 9, 9, 9, 9, 9, 9, 9, 9]\n"
>>>>>>> 69e1d96deffb36bdb74f09eaafadb636e5967ad9
     ]
    }
   ],
   "source": [
    "#Counting Sort\n",
    "\n",
    "def CountingSort(A):\n",
    "    k = max(A)\n",
    "    count = [0] * (k + 1)\n",
    "    \n",
    "    for num in A:\n",
    "        count[num] += 1\n",
    "    B = []\n",
    "    for i in range(len(count)):\n",
    "        B.extend([i] * count[i])\n",
    "        \n",
    "    return B , count\n",
    "\n",
    "def CountingSortPrefixSum(A):\n",
    "    k = max(A)\n",
    "    count = [0] * (k + 1)\n",
    "\n",
    "    for num in A:\n",
    "        count[num] += 1\n",
    "    for i in range(1, len(count)):\n",
    "        count[i] += count[i - 1]\n",
    "    B = [0] * len(A)\n",
    "    for num in reversed(A):\n",
    "        count[num] -= 1\n",
    "        B[count[num]] = num\n",
    "\n",
    "    return B, count\n",
    "\n",
    "#example\n",
    "A = new_array()\n",
    "sorted, count = CountingSortPrefixSum(A)\n",
    "print(sorted,count)"
   ]
  },
  {
   "cell_type": "markdown",
   "metadata": {},
   "source": [
    "## RadixSort"
   ]
  },
  {
   "cell_type": "markdown",
   "metadata": {},
   "source": []
  }
 ],
 "metadata": {
  "kernelspec": {
   "display_name": "DSBI",
   "language": "python",
   "name": "python3"
  },
  "language_info": {
   "codemirror_mode": {
    "name": "ipython",
    "version": 3
   },
   "file_extension": ".py",
   "mimetype": "text/x-python",
   "name": "python",
   "nbconvert_exporter": "python",
   "pygments_lexer": "ipython3",
   "version": "3.12.0"
  }
 },
 "nbformat": 4,
 "nbformat_minor": 2
}
