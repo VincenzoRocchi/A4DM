{
 "cells": [
  {
   "cell_type": "markdown",
   "metadata": {},
   "source": [
    "### HEAP"
   ]
  },
  {
   "cell_type": "code",
   "execution_count": 32,
   "metadata": {},
   "outputs": [],
   "source": [
    "A = [4, 1, 3, 2, 16, 9, 10, 14, 8 ,7]"
   ]
  },
  {
   "cell_type": "code",
   "execution_count": 45,
   "metadata": {},
   "outputs": [],
   "source": [
    "def MinHeapify(A,i):\n",
    "    \n",
    "    smallest = i\n",
    "    l = 2*i \n",
    "    r = 2*i +1\n",
    "    \n",
    "    if l <= len(A) and A[l] < A[i]:\n",
    "        smallest = l\n",
    "    if l <= len(A) and A[r] < A[i]:\n",
    "        smallest = r\n",
    "    if smallest != i:\n",
    "        A[i], A[smallest] = A[smallest], A[i]\n",
    "        MinHeapify(A,smallest)"
   ]
  },
  {
   "cell_type": "code",
   "execution_count": 46,
   "metadata": {},
   "outputs": [],
   "source": [
    "def BuildMinHeap(A):\n",
    "    heapsize = len(A)-1\n",
    "    \n",
    "    for i in range((heapsize//2), 0, -1):\n",
    "        MinHeapify(A,i)\n",
    "        \n",
    "    return A\n",
    "    "
   ]
  },
  {
   "cell_type": "code",
   "execution_count": 47,
   "metadata": {},
   "outputs": [
    {
     "name": "stdout",
     "output_type": "stream",
     "text": [
      "5\n",
      "4\n",
      "3\n",
      "2\n",
      "1\n"
     ]
    }
   ],
   "source": [
    "for i in range((len(A)//2), 0, -1):\n",
    "    print(i)"
   ]
  },
  {
   "cell_type": "code",
   "execution_count": 48,
   "metadata": {},
   "outputs": [
    {
     "data": {
      "text/plain": [
       "[4, 1, 3, 2, 7, 9, 10, 14, 8, 16]"
      ]
     },
     "execution_count": 48,
     "metadata": {},
     "output_type": "execute_result"
    }
   ],
   "source": [
    "BuildMinHeap(A)"
   ]
  },
  {
   "cell_type": "code",
   "execution_count": null,
   "metadata": {},
   "outputs": [],
   "source": []
  }
 ],
 "metadata": {
  "kernelspec": {
   "display_name": "ALGO",
   "language": "python",
   "name": "python3"
  },
  "language_info": {
   "codemirror_mode": {
    "name": "ipython",
    "version": 3
   },
   "file_extension": ".py",
   "mimetype": "text/x-python",
   "name": "python",
   "nbconvert_exporter": "python",
   "pygments_lexer": "ipython3",
   "version": "3.12.0"
  }
 },
 "nbformat": 4,
 "nbformat_minor": 2
}
