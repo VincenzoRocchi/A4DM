{
 "cells": [
  {
   "cell_type": "markdown",
   "metadata": {},
   "source": [
    "# HEAP"
   ]
  },
  {
   "cell_type": "markdown",
   "metadata": {},
   "source": [
    "## Imports"
   ]
  },
  {
   "cell_type": "code",
   "execution_count": 6,
   "metadata": {},
   "outputs": [],
   "source": [
    "from functions import *"
   ]
  },
  {
   "cell_type": "markdown",
   "metadata": {},
   "source": [
    "## MinHeap"
   ]
  },
  {
   "cell_type": "code",
   "execution_count": 157,
   "metadata": {},
   "outputs": [
    {
     "data": {
      "text/plain": [
       "[1, 2, 3, 4, 7, 9, 10, 14, 8, 16]"
      ]
     },
     "execution_count": 157,
     "metadata": {},
     "output_type": "execute_result"
    }
   ],
   "source": [
    "A = [4, 1, 3, 2, 16, 9, 10, 14, 8 ,7]\n",
    "\n",
    "def MinHeapify(A,i, heapsize):\n",
    "    \n",
    "    l = 2*i +1\n",
    "    r = 2*i +2\n",
    "    smallest = i\n",
    "    \n",
    "    if l < heapsize and A[l] < A[smallest]:\n",
    "        smallest = l\n",
    "        \n",
    "    if r < heapsize and A[r] < A[smallest]:\n",
    "        smallest = r\n",
    "        \n",
    "    if smallest != i:\n",
    "        A[i],A[smallest] = A[smallest], A[i]\n",
    "        MinHeapify(A, smallest, heapsize)\n",
    "    \n",
    "def BuildMinHeap(A):\n",
    "    \n",
    "    heapsize = len(A)\n",
    "    for i in range((heapsize//2) -1, -1, -1):\n",
    "        MinHeapify(A, i , heapsize)\n",
    "    return A\n",
    "\n",
    "BuildMinHeap(A)"
   ]
  },
  {
   "cell_type": "markdown",
   "metadata": {},
   "source": [
    "## MaxHeap"
   ]
  },
  {
   "cell_type": "code",
   "execution_count": 8,
   "metadata": {},
   "outputs": [
    {
     "data": {
      "text/plain": [
       "[16, 14, 10, 8, 7, 9, 3, 2, 4, 1]"
      ]
     },
     "execution_count": 8,
     "metadata": {},
     "output_type": "execute_result"
    }
   ],
   "source": [
    "A = [4, 1, 3, 2, 16, 9, 10, 14, 8 ,7]\n",
    "\n",
    "def MaxHeapify(A,i, heapsize):\n",
    "    \n",
    "    l = 2*i +1\n",
    "    r = 2*i +2\n",
    "    largest = i\n",
    "    \n",
    "    if l < heapsize and A[l] > A[largest]:\n",
    "        largest = l\n",
    "        \n",
    "    if r < heapsize and A[r] > A[largest]:\n",
    "        largest = r\n",
    "    \n",
    "    if largest != i:\n",
    "        A[i], A[largest] = A[largest], A[i]\n",
    "        MaxHeapify(A, largest,heapsize)\n",
    "        \n",
    "def BuildMaxHeap(A):\n",
    "    \n",
    "    heapsize = len(A)\n",
    "    for i in range((heapsize//2)-1,-1,-1):\n",
    "        MaxHeapify(A,i,heapsize)\n",
    "\n",
    "    return A\n",
    "\n",
    "BuildMaxHeap(A)"
   ]
  },
  {
   "cell_type": "markdown",
   "metadata": {},
   "source": [
    "## HeapSort"
   ]
  },
  {
   "cell_type": "code",
   "execution_count": 29,
   "metadata": {},
   "outputs": [
    {
     "data": {
      "text/plain": [
       "[1, 2, 3, 4, 7, 8, 9, 10, 14, 16]"
      ]
     },
     "execution_count": 29,
     "metadata": {},
     "output_type": "execute_result"
    }
   ],
   "source": [
    "A = [4, 1, 3, 2, 16, 9, 10, 14, 8 ,7]\n",
    "\n",
    "def HeapSort(A):\n",
    "    BuildMaxHeap(A)\n",
    "    heapsize = len(A)\n",
    "    \n",
    "    for i in range((heapsize)-1, -1,-1):\n",
    "        A[0], A[i] = A[i], A[0]\n",
    "        MaxHeapify(A, 0, i)\n",
    "        \n",
    "    return A\n",
    "\n",
    "HeapSort(A)"
   ]
  }
 ],
 "metadata": {
  "kernelspec": {
   "display_name": "ALGO",
   "language": "python",
   "name": "python3"
  },
  "language_info": {
   "codemirror_mode": {
    "name": "ipython",
    "version": 3
   },
   "file_extension": ".py",
   "mimetype": "text/x-python",
   "name": "python",
   "nbconvert_exporter": "python",
   "pygments_lexer": "ipython3",
   "version": "3.12.0"
  }
 },
 "nbformat": 4,
 "nbformat_minor": 2
}
