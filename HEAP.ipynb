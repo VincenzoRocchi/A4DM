{
 "cells": [
  {
   "cell_type": "markdown",
   "metadata": {},
   "source": [
    "# HEAP"
   ]
  },
  {
   "cell_type": "markdown",
   "metadata": {},
   "source": [
    "## Imports"
   ]
  },
  {
   "cell_type": "code",
   "execution_count": 1,
   "metadata": {},
   "outputs": [],
   "source": [
    "from functions import *"
   ]
  },
  {
   "cell_type": "markdown",
   "metadata": {},
   "source": [
    "## MinHeap"
   ]
  },
  {
   "cell_type": "code",
   "execution_count": 2,
   "metadata": {},
   "outputs": [
    {
     "data": {
      "text/plain": [
       "[1, 2, 3, 4, 7, 9, 10, 14, 8, 16]"
      ]
     },
     "execution_count": 2,
     "metadata": {},
     "output_type": "execute_result"
    }
   ],
   "source": [
    "def MinHeapify(A,i, heapsize):\n",
    "    \n",
    "    l = 2*i +1\n",
    "    r = 2*i +2\n",
    "    smallest = i\n",
    "    \n",
    "    if l < heapsize and A[l] < A[smallest]:\n",
    "        smallest = l\n",
    "        \n",
    "    if r < heapsize and A[r] < A[smallest]:\n",
    "        smallest = r\n",
    "        \n",
    "    if smallest != i:\n",
    "        A[i],A[smallest] = A[smallest], A[i]\n",
    "        MinHeapify(A, smallest, heapsize)\n",
    "    \n",
    "def BuildMinHeap(A):\n",
    "    \n",
    "    heapsize = len(A)\n",
    "    for i in range((heapsize//2) -1, -1, -1):\n",
    "        MinHeapify(A, i , heapsize)\n",
    "    return A\n",
    "\n",
    "#example\n",
    "A = [4, 1, 3, 2, 16, 9, 10, 14, 8 ,7]\n",
    "BuildMinHeap(A)"
   ]
  },
  {
   "cell_type": "markdown",
   "metadata": {},
   "source": [
    "## MaxHeap"
   ]
  },
  {
   "cell_type": "code",
   "execution_count": 3,
   "metadata": {},
   "outputs": [
    {
     "data": {
      "text/plain": [
       "[16, 14, 10, 8, 7, 9, 3, 2, 4, 1]"
      ]
     },
     "execution_count": 3,
     "metadata": {},
     "output_type": "execute_result"
    }
   ],
   "source": [
    "def MaxHeapify(A,i, heapsize):\n",
    "    \n",
    "    l = 2*i +1\n",
    "    r = 2*i +2\n",
    "    largest = i\n",
    "    \n",
    "    if l < heapsize and A[l] > A[largest]:\n",
    "        largest = l\n",
    "        \n",
    "    if r < heapsize and A[r] > A[largest]:\n",
    "        largest = r\n",
    "    \n",
    "    if largest != i:\n",
    "        A[i], A[largest] = A[largest], A[i]\n",
    "        MaxHeapify(A, largest,heapsize)\n",
    "        \n",
    "def BuildMaxHeap(A):\n",
    "    \n",
    "    heapsize = len(A)\n",
    "    for i in range((heapsize//2)-1,-1,-1):\n",
    "        MaxHeapify(A,i,heapsize)\n",
    "\n",
    "    return A\n",
    "\n",
    "#example\n",
    "A = [4, 1, 3, 2, 16, 9, 10, 14, 8 ,7]\n",
    "BuildMaxHeap(A)"
   ]
  },
  {
   "cell_type": "markdown",
   "metadata": {},
   "source": [
    "## HeapSort"
   ]
  },
  {
   "cell_type": "code",
   "execution_count": 4,
   "metadata": {},
   "outputs": [
    {
     "data": {
      "text/plain": [
       "[1, 2, 3, 4, 7, 8, 9, 10, 14, 16]"
      ]
     },
     "execution_count": 4,
     "metadata": {},
     "output_type": "execute_result"
    }
   ],
   "source": [
    "def HeapSort(A):\n",
    "    BuildMaxHeap(A)\n",
    "    heapsize = len(A)\n",
    "    \n",
    "    for i in range((heapsize)-1, -1,-1):\n",
    "        A[0], A[i] = A[i], A[0]\n",
    "        MaxHeapify(A, 0, i)\n",
    "        \n",
    "    return A\n",
    "\n",
    "#example\n",
    "A = [4, 1, 3, 2, 16, 9, 10, 14, 8 ,7]\n",
    "HeapSort(A)"
   ]
  },
  {
   "cell_type": "markdown",
   "metadata": {},
   "source": [
    "# PriorityQueue"
   ]
  },
  {
   "cell_type": "markdown",
   "metadata": {},
   "source": [
    "### Maximum"
   ]
  },
  {
   "cell_type": "code",
   "execution_count": 5,
   "metadata": {},
   "outputs": [
    {
     "data": {
      "text/plain": [
       "16"
      ]
     },
     "execution_count": 5,
     "metadata": {},
     "output_type": "execute_result"
    }
   ],
   "source": [
    "def HeapMaximum(A):\n",
    "    max = A[0]\n",
    "    return max\n",
    "\n",
    "#example\n",
    "A = [4, 1, 3, 2, 16, 9, 10, 14, 8 ,7]\n",
    "HeapMaximum(BuildMaxHeap(A))"
   ]
  },
  {
   "cell_type": "markdown",
   "metadata": {},
   "source": [
    "### Extract Maximum"
   ]
  },
  {
   "cell_type": "code",
   "execution_count": 6,
   "metadata": {},
   "outputs": [
    {
     "name": "stdout",
     "output_type": "stream",
     "text": [
      "[14, 8, 10, 4, 7, 9, 3, 2, 1]\n"
     ]
    }
   ],
   "source": [
    "def HeapExtractMax(A):\n",
    "    if len(A) < 1:\n",
    "        raise ValueError(\"Heap underflow: Heap is empty\")\n",
    "    \n",
    "    heapsize = len(A) -1\n",
    "    max = A[0]\n",
    "    swap_ind(A, 0, heapsize)\n",
    "    A.pop()\n",
    "\n",
    "    MaxHeapify(A, 0, heapsize)\n",
    "    return max\n",
    "\n",
    "#example\n",
    "A = [4, 1, 3, 2, 16, 9, 10, 14, 8 ,7]\n",
    "HeapExtractMax(BuildMaxHeap(A))\n",
    "print(A)"
   ]
  },
  {
   "cell_type": "markdown",
   "metadata": {},
   "source": [
    "### Increase Key"
   ]
  },
  {
   "cell_type": "code",
   "execution_count": 7,
   "metadata": {},
   "outputs": [
    {
     "name": "stdout",
     "output_type": "stream",
     "text": [
      "[16, 14, 10, 8, 7, 9, 10, 2, 4, 1]\n"
     ]
    }
   ],
   "source": [
    "def HeapIncreaseKey(A, key, i):\n",
    "    if key < A[i]:\n",
    "        raise ValueError(\"key is smaller than current key\")\n",
    "    A[i] = key\n",
    "    while i > 0 and A[parent(A,i)] < A[i]:\n",
    "        swap_ind(A,parent(A,i),i)\n",
    "        i = parent(A,i)\n",
    "        \n",
    "#example\n",
    "A = [4, 1, 3, 2, 16, 9, 10, 14, 8 ,7]\n",
    "Heap = BuildMaxHeap(A)\n",
    "HeapIncreaseKey(Heap, 10, 6)\n",
    "print(Heap)"
   ]
  },
  {
   "cell_type": "markdown",
   "metadata": {},
   "source": [
    "### Insert Key"
   ]
  },
  {
   "cell_type": "code",
   "execution_count": 13,
   "metadata": {},
   "outputs": [
    {
     "name": "stdout",
     "output_type": "stream",
     "text": [
      "[16, 14, 10, 8, 10, 9, 3, 2, 4, 1, 7]\n"
     ]
    }
   ],
   "source": [
    "def HeapInsertKey(A,key):\n",
    "    A.append(-10000000)\n",
    "    HeapIncreaseKey(A,key,len(A)-1)\n",
    "\n",
    "#example\n",
    "A = [4, 1, 3, 2, 16, 9, 10, 14, 8 ,7]\n",
    "Heap = BuildMaxHeap(A)\n",
    "HeapInsertKey(Heap, 10)\n",
    "print(Heap)"
   ]
  },
  {
   "cell_type": "markdown",
   "metadata": {},
   "source": [
    "### Maxheap variation"
   ]
  },
  {
   "cell_type": "code",
   "execution_count": 25,
   "metadata": {},
   "outputs": [
    {
     "name": "stdout",
     "output_type": "stream",
     "text": [
      "Heap built with max_heapify [16, 14, 10, 8, 7, 9, 3, 2, 4, 1], Heap built with insert_key [16, 14, 10, 8, 7, 9, 3, 2, 4, 1]\n"
     ]
    }
   ],
   "source": [
    "def BuildMaxHeap_1(A):\n",
    "    B = []\n",
    "    for i in range(0, len(A)):\n",
    "        HeapInsertKey(B,A[i])\n",
    "    return B\n",
    "\n",
    "#example\n",
    "A = [4, 1, 3, 2, 16, 9, 10, 14, 8 ,7]\n",
    "Heap1 = BuildMaxHeap(A)\n",
    "Heap2 = BuildMaxHeap_1(A)\n",
    "print(f\"Heap built with max_heapify {Heap1}, Heap built with insert_key {Heap2}\")"
   ]
  }
 ],
 "metadata": {
  "kernelspec": {
   "display_name": "ALGO",
   "language": "python",
   "name": "python3"
  },
  "language_info": {
   "codemirror_mode": {
    "name": "ipython",
    "version": 3
   },
   "file_extension": ".py",
   "mimetype": "text/x-python",
   "name": "python",
   "nbconvert_exporter": "python",
   "pygments_lexer": "ipython3",
   "version": "3.12.0"
  }
 },
 "nbformat": 4,
 "nbformat_minor": 2
}
